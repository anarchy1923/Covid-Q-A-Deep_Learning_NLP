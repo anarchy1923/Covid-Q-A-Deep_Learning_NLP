{
 "cells": [
  {
   "cell_type": "code",
   "execution_count": 1,
   "metadata": {},
   "outputs": [],
   "source": [
    "#read the sample dataset\n"
   ]
  },
  {
   "cell_type": "code",
   "execution_count": 2,
   "metadata": {},
   "outputs": [
    {
     "name": "stdout",
     "output_type": "stream",
     "text": [
      "Requirement already satisfied: pandas==1.3.1 in c:\\users\\manan\\anaconda3\\lib\\site-packages (1.3.1)\n",
      "Requirement already satisfied: numpy>=1.17.3 in c:\\users\\manan\\anaconda3\\lib\\site-packages (from pandas==1.3.1) (1.21.1)\n",
      "Requirement already satisfied: python-dateutil>=2.7.3 in c:\\users\\manan\\anaconda3\\lib\\site-packages (from pandas==1.3.1) (2.8.2)\n",
      "Requirement already satisfied: pytz>=2017.3 in c:\\users\\manan\\anaconda3\\lib\\site-packages (from pandas==1.3.1) (2021.3)\n",
      "Requirement already satisfied: six>=1.5 in c:\\users\\manan\\anaconda3\\lib\\site-packages (from python-dateutil>=2.7.3->pandas==1.3.1) (1.16.0)\n"
     ]
    }
   ],
   "source": [
    "#installing the pandas library\n",
    "!pip3 install pandas==1.3.1\n"
   ]
  },
  {
   "cell_type": "code",
   "execution_count": 3,
   "metadata": {},
   "outputs": [
    {
     "name": "stdout",
     "output_type": "stream",
     "text": [
      "1.3.1\n",
      "1.20.3\n",
      "3.9.7 (default, Sep 16 2021, 16:59:28) [MSC v.1916 64 bit (AMD64)]\n"
     ]
    }
   ],
   "source": [
    "import pandas as pd\n",
    "import numpy as np\n",
    "import sys\n",
    "print(pd.__version__)\n",
    "print(np.__version__)\n",
    "print(sys.version)\n"
   ]
  },
  {
   "cell_type": "code",
   "execution_count": 4,
   "metadata": {},
   "outputs": [
    {
     "name": "stdout",
     "output_type": "stream",
     "text": [
      "Files in 'c:\\\\Users\\\\manan\\\\CovidQa\\\\KBHandler': ['es_populate.ipynb', 'requirements.txt', 'SAMPLE_COVID_QA_PROCESSED.csv', 'setup.sh']\n"
     ]
    }
   ],
   "source": [
    "import os\n",
    "cwd = os.getcwd() #get the current working directory\n",
    "files = os.listdir(cwd) #get all the files in the directory\n",
    "print(\"Files in %r: %s\" % (cwd, files))"
   ]
  },
  {
   "cell_type": "code",
   "execution_count": 5,
   "metadata": {},
   "outputs": [
    {
     "data": {
      "text/html": [
       "<div>\n",
       "<style scoped>\n",
       "    .dataframe tbody tr th:only-of-type {\n",
       "        vertical-align: middle;\n",
       "    }\n",
       "\n",
       "    .dataframe tbody tr th {\n",
       "        vertical-align: top;\n",
       "    }\n",
       "\n",
       "    .dataframe thead th {\n",
       "        text-align: right;\n",
       "    }\n",
       "</style>\n",
       "<table border=\"1\" class=\"dataframe\">\n",
       "  <thead>\n",
       "    <tr style=\"text-align: right;\">\n",
       "      <th></th>\n",
       "      <th>sha</th>\n",
       "      <th>title</th>\n",
       "      <th>abstract</th>\n",
       "      <th>publish_time</th>\n",
       "      <th>authors</th>\n",
       "      <th>url</th>\n",
       "      <th>body_text</th>\n",
       "    </tr>\n",
       "  </thead>\n",
       "  <tbody>\n",
       "    <tr>\n",
       "      <th>0</th>\n",
       "      <td>1cbf95a2c3a39e5cc80a5c4c6dbcec7cc718fd59</td>\n",
       "      <td>Genomic Evolution of Severe Acute Respiratory ...</td>\n",
       "      <td>Abstract Recent emergence of severe acute resp...</td>\n",
       "      <td>2020-08-31</td>\n",
       "      <td>Jacob, Jobin John; Vasudevan, Karthick; Veerar...</td>\n",
       "      <td>https://api.elsevier.com/content/article/pii/S...</td>\n",
       "      <td>The outbreak of severe acute respiratory syndr...</td>\n",
       "    </tr>\n",
       "    <tr>\n",
       "      <th>1</th>\n",
       "      <td>7dc6943ca46a1093ece2594002d61efdf9f51f28</td>\n",
       "      <td>Impact of COVID-19 on COPD and Asthma admissio...</td>\n",
       "      <td>Asthma and Chronic Obstructive Pulmonary Disea...</td>\n",
       "      <td>2020-12-10</td>\n",
       "      <td>Sykes, Dominic L; Faruqi, Shoaib; Holdsworth, ...</td>\n",
       "      <td>https://www.ncbi.nlm.nih.gov/pubmed/33575313/;...</td>\n",
       "      <td>The COVID-19 pandemic has led to an overall re...</td>\n",
       "    </tr>\n",
       "    <tr>\n",
       "      <th>2</th>\n",
       "      <td>5b127336f68f3dca83981d0142eda472634378f0</td>\n",
       "      <td>Programmable System of Cas13-Mediated RNA Modi...</td>\n",
       "      <td>Clustered regularly interspaced short palindro...</td>\n",
       "      <td>2021-07-27</td>\n",
       "      <td>Tang, Tian; Han, Yingli; Wang, Yuran; Huang, H...</td>\n",
       "      <td>https://www.ncbi.nlm.nih.gov/pubmed/34386490/;...</td>\n",
       "      <td>Prokaryotic clustered regularly interspaced sh...</td>\n",
       "    </tr>\n",
       "    <tr>\n",
       "      <th>3</th>\n",
       "      <td>aafbe282248436380dd737bae844725882df2249</td>\n",
       "      <td>Are You Tired of Working amid the Pandemic? Th...</td>\n",
       "      <td>With the outbreak of novel coronavirus in 2019...</td>\n",
       "      <td>2020-12-09</td>\n",
       "      <td>Chen, Huaruo; Liu, Fan; Pang, Liman; Liu, Fei;...</td>\n",
       "      <td>https://doi.org/10.3390/ijerph17249188; https:...</td>\n",
       "      <td>In the outbreak of novel coronavirus pneumonia...</td>\n",
       "    </tr>\n",
       "    <tr>\n",
       "      <th>4</th>\n",
       "      <td>4013a7e351c40d2bb7fdfe7f185d2ef9b1a872e6</td>\n",
       "      <td>Viral Sepsis in Children</td>\n",
       "      <td>Sepsis in children is typically presumed to be...</td>\n",
       "      <td>2018-09-18</td>\n",
       "      <td>Gupta, Neha; Richter, Robert; Robert, Stephen;...</td>\n",
       "      <td>https://www.ncbi.nlm.nih.gov/pubmed/30280095/;...</td>\n",
       "      <td>The true incidence of viral sepsis, particular...</td>\n",
       "    </tr>\n",
       "  </tbody>\n",
       "</table>\n",
       "</div>"
      ],
      "text/plain": [
       "                                        sha  \\\n",
       "0  1cbf95a2c3a39e5cc80a5c4c6dbcec7cc718fd59   \n",
       "1  7dc6943ca46a1093ece2594002d61efdf9f51f28   \n",
       "2  5b127336f68f3dca83981d0142eda472634378f0   \n",
       "3  aafbe282248436380dd737bae844725882df2249   \n",
       "4  4013a7e351c40d2bb7fdfe7f185d2ef9b1a872e6   \n",
       "\n",
       "                                               title  \\\n",
       "0  Genomic Evolution of Severe Acute Respiratory ...   \n",
       "1  Impact of COVID-19 on COPD and Asthma admissio...   \n",
       "2  Programmable System of Cas13-Mediated RNA Modi...   \n",
       "3  Are You Tired of Working amid the Pandemic? Th...   \n",
       "4                           Viral Sepsis in Children   \n",
       "\n",
       "                                            abstract publish_time  \\\n",
       "0  Abstract Recent emergence of severe acute resp...   2020-08-31   \n",
       "1  Asthma and Chronic Obstructive Pulmonary Disea...   2020-12-10   \n",
       "2  Clustered regularly interspaced short palindro...   2021-07-27   \n",
       "3  With the outbreak of novel coronavirus in 2019...   2020-12-09   \n",
       "4  Sepsis in children is typically presumed to be...   2018-09-18   \n",
       "\n",
       "                                             authors  \\\n",
       "0  Jacob, Jobin John; Vasudevan, Karthick; Veerar...   \n",
       "1  Sykes, Dominic L; Faruqi, Shoaib; Holdsworth, ...   \n",
       "2  Tang, Tian; Han, Yingli; Wang, Yuran; Huang, H...   \n",
       "3  Chen, Huaruo; Liu, Fan; Pang, Liman; Liu, Fei;...   \n",
       "4  Gupta, Neha; Richter, Robert; Robert, Stephen;...   \n",
       "\n",
       "                                                 url  \\\n",
       "0  https://api.elsevier.com/content/article/pii/S...   \n",
       "1  https://www.ncbi.nlm.nih.gov/pubmed/33575313/;...   \n",
       "2  https://www.ncbi.nlm.nih.gov/pubmed/34386490/;...   \n",
       "3  https://doi.org/10.3390/ijerph17249188; https:...   \n",
       "4  https://www.ncbi.nlm.nih.gov/pubmed/30280095/;...   \n",
       "\n",
       "                                           body_text  \n",
       "0  The outbreak of severe acute respiratory syndr...  \n",
       "1  The COVID-19 pandemic has led to an overall re...  \n",
       "2  Prokaryotic clustered regularly interspaced sh...  \n",
       "3  In the outbreak of novel coronavirus pneumonia...  \n",
       "4  The true incidence of viral sepsis, particular...  "
      ]
     },
     "execution_count": 5,
     "metadata": {},
     "output_type": "execute_result"
    }
   ],
   "source": [
    "import pandas as pd\n",
    "df = pd.read_csv('c:\\\\Users\\\\manan\\\\CovidQa\\\\KBHandler\\SAMPLE_COVID_QA_PROCESSED.csv')\n",
    "df.head()"
   ]
  },
  {
   "cell_type": "code",
   "execution_count": 6,
   "metadata": {},
   "outputs": [],
   "source": [
    "#converting it to a list of dictionaries\n",
    "dicts = df.to_dict('records')"
   ]
  },
  {
   "cell_type": "code",
   "execution_count": 7,
   "metadata": {},
   "outputs": [
    {
     "data": {
      "text/plain": [
       "{'sha': '1cbf95a2c3a39e5cc80a5c4c6dbcec7cc718fd59',\n",
       " 'title': 'Genomic Evolution of Severe Acute Respiratory Syndrome Coronavirus 2 in India and Vaccine Impact',\n",
       " 'abstract': 'Abstract Recent emergence of severe acute respiratory syndrome coronavirus 2 (SARS-CoV-2) and subsequent containment procedures have impacted the world as never seen before. Therefore, there is considerable curiosity about the genome evolution related to the origin, transmission and vaccine impact of this virus. We have analysed genome sequences of SARS-CoV-2 isolated from Indian patients to gain an in-depth understanding of genomic evolution and transmission in India. Phylogenetic analysis and mutation profiling revealed major lineages being evolved by characteristic mutations. As the mutation frequency in spike protein is comparatively lesser, the candidate vaccines expected to have wide coverage worldwide including India.',\n",
       " 'publish_time': '2020-08-31',\n",
       " 'authors': 'Jacob, Jobin John; Vasudevan, Karthick; Veeraraghavan, Balaji; Iyadurai, Ramya; Gunasekaran, Karthik',\n",
       " 'url': 'https://api.elsevier.com/content/article/pii/S0255085720314894; https://www.sciencedirect.com/science/article/pii/S0255085720314894; https://doi.org/10.4103/ijmm.ijmm_20_303; https://www.ncbi.nlm.nih.gov/pubmed/32883935/',\n",
       " 'body_text': \"The outbreak of severe acute respiratory syndrome coronavirus 2 (SARS-CoV-2) in Wuhan, China, and its subsequent international spread is unprecedented and generated a global health emergency. To slow the chain of transmission of coronavirus disease (COVID-19), India too responded with containment procedures such as travel bans, lockdowns and social distancing. As the virus transmission and subsequent lockdown have impacted the living habits and social behaviour of general public, there has been considerable curiosity on the genome evolution related to the origin, transmission and vaccine impact with special reference to India. Hence, this work was carried out.$$$The genomic analysis of the Indian genome sequences of SARS-CoV-2 was gathered from GISAID (https://www. gisaid.org/). The genomes containing sampling time and location were chosen for the study. A multiple genome sequence alignment performed with MAFFT (https:// m a ff t . c b r c . j p / a l i g n m e n t / s o f t w a r e / ) . T h e i s o l a t e Wuhan-Hu-1 (MN908947) was used as the reference genome. Maximum likelihood tree was generated using Fasttree (http://www.microbesonline.org/fasttree/). The phylogenetic trees and the geographical distribution are interactively depicted using Microreact (https://microreact. org).$$$The origin of the SARS-CoV-2 is one of the most mysterious and controversial questions of the recent times as there are arguments for and against the natural selection hypothesis. Currently, much of the research related to SARS-CoV-2 is revolving around the likely recombination and mutation that led to the origin of the virus. The initial report on evolution of SARS-CoV-2 from a closely related BatCoV RaTG13 as a result of a recent recombination event seems to be not true. [1] The latest phylogenetic data estimate that the timing of the most recent common ancestor of SARS CoV-2 and RaTG13 suggests the strains diverged 40-70 years ago and the emergence is not a recent recombination event. [2] Since coronaviruses in bats and other species are particularly undersampled, more viral sequences from animal sources would decode the mystery of the origin of SARS-CoV-2.$$$What makes SARS-CoV-2 different from other endemic coronaviruses is the efficient human-human transmission in a short time period. This can be attributed to two notable features in the viral genome (i) mutations in the receptor-binding domain (RBD) and (ii) the furin cleavage site at the S1/S2 boundary of the spike protein. [3] In brief, SARS-CoV-2 is a SARS like lineage B β-CoV carrying RBD identical to Pangolin-β-CoV and furin recognition motif (PRRAR ↓ SV) similar to lineage A and C β-CoV. [4, 5] Up to date globally, 46,570 (as on 15 June 2020) genome sequences of SARS-CoV-2 were in public domain. Tools for real-time tracking, mutation mapping and assigning nomenclature were formulated to support the epidemiological understanding and improve outbreak response (https://nextstrain. org/, http://cov-glue.cvr.gla.ac.uk/#/home). In India, a total of >600 high-quality genome sequences were available in the public domain. The mutation profile suggests increase in genetic diversity within a short period of 5 months. The global phylogenetic distribution shows six high-level phylogenetic groupings (S, L, V, G, GH and GR) classified on the basis of marker mutations. The GISAID lineages were further subclassified using Phylogenetic Assignment of Named Global Outbreak LINeages (PANGOLIN) tool (https://github.com/ hCoV-2019/pangolin). Genomic analysis of India isolates showed lineage PANGOLIN lineage B.1/B.1.1/B.1.36 (previously A2a) with D614G mutation being dominant with a possibility of more efficient transmission. [6] The second common lineage B.6 (previously A3/A3i) [7] in India is less transmissible may be due to the lack of mutation in the spike protein. [8] Phylogeography of Indian SARS-CoV-2 [ Figure 1 ] showed that lineage A isolates are imported cases from central Asia (China) while lineage B.6 and B.1.36 were imported from Southeast Asia and Europe, respectively (Unpublished data). Interestingly, linage B.1.36 dominant in Gujarat possesses 1-3 mutation (D614G, R78M and L54F) in S protein, which may contribute to increased infectivity.$$$Identification of R0 can efficiently predict the spread of virus and also helps in disease containment during outbreak. Studies from 13 different research groups predict the 'R0' value to be ranged between 2 and 7.23. [9] The variation in the 'R0' estimate can be attributed to the differences in mathematical transmission modelling and assumptions methods followed by the authors. In India where the epidemic growth trajectory was slow, the R0 value is estimated to be 1.22-1.85. [10] This can be attributed to the strict control measures and lockdown. After the recent relaxations in restrictions and increase rate of testing, India could register an explosion of cases where local cluster transmissions occur. Hence, the 'R0' are expected to rise further. According to Nation Institute of Epidemiology, Chennai, the projected R0 estimate can reach up to a maximum of 4 without proper containment measures.$$$A vaccine can be the best way to protect the world from this likely catastrophe on an affordable basis. Although it may take 12-18 months for a vaccine roll out, 10 candidate vaccines are in clinical evaluation and 126 are in pre-clinical evaluation (As of 9 June 2020). In India, three major groups have started the pre-clinical evaluation of candidate vaccine in collaboration with leading vaccine groups. The landscape of four COVID-19 candidate vaccines in pipeline is listed in Table 1 . Since many of the candidate vaccines are targeting the S protein, accumulation of missense mutations could possibly affect the vaccine coverage. However, the presence of low mutation rate in S protein makes it a good target for an effective vaccine candidate. Due to the increased mutation frequency in the Orf1a, N proteins make them a less preferable vaccine targets. However, these genes can be used as confirmatory targets for laboratory diagnosis.$$$The current ICMR recommended treatment strategy in India, allow the use of hydroxychloroquine in patients with mild illness and remdesivir in moderate and severe illness. Tocilizumab is recommended in patients with moderate illness after monitoring the inflammatory markers. Though, hydroxychloroquine emerged as a front runner with high hope, hype and politicisation three major studies failed to show significant evidence in using this drug. [11] The use of remdesivir in COVID-19 patients can prevent progression to pneumonia if initiated early. [12] Steroids (dexamethasone) appear to be a promising rescue therapy in management of those with moderate to severe illness. Early administration of tocilizumab as rescue therapy may benefit patients with increased inflammatory response with no evidence of secondary bacterial infection. [13] Moreover low-molecular-weight heparin appears to be associated with better prognosis in severe COVID-19 patients or among those with markedly elevated D-dimer. [14] conclusIon Genome analysis of Indian isolates indicates that PANGOLIN lineage B.1/B.1.1/B.1.36 (previouslyA2a) with D614G mutation being dominant with a possibility of more efficient transmission. The second common lineage B.6 (previously A3/A3i) [7] in India is less transmissible may be due to the lack of mutation in the spike protein. As the mutation frequency in S protein is comparatively lesser, the candidate vaccines expected to have a wide coverage worldwide including India.$$$Nil.$$$There are no conflicts of interest.\"}"
      ]
     },
     "execution_count": 7,
     "metadata": {},
     "output_type": "execute_result"
    }
   ],
   "source": [
    "dicts[0]"
   ]
  },
  {
   "cell_type": "code",
   "execution_count": 8,
   "metadata": {},
   "outputs": [
    {
     "data": {
      "text/plain": [
       "\"\\n{\\n    'text': '<DOCUMENT BODY>'\\n    'meta': {'key': 'val'......}\\n}\\n\""
      ]
     },
     "execution_count": 8,
     "metadata": {},
     "output_type": "execute_result"
    }
   ],
   "source": [
    "\"\"\"\n",
    "{\n",
    "    'text': '<DOCUMENT BODY>'\n",
    "    'meta': {'key': 'val'......}\n",
    "}\n",
    "\"\"\""
   ]
  },
  {
   "cell_type": "code",
   "execution_count": 9,
   "metadata": {},
   "outputs": [],
   "source": [
    "final_dicts = []\n",
    "for each in dicts:\n",
    "    tmp = {}\n",
    "    tmp['text'] = each.pop('body_text')\n",
    "    tmp['meta'] = each\n",
    "    final_dicts.append(tmp)"
   ]
  },
  {
   "cell_type": "code",
   "execution_count": 10,
   "metadata": {},
   "outputs": [
    {
     "data": {
      "text/plain": [
       "{'text': \"The outbreak of severe acute respiratory syndrome coronavirus 2 (SARS-CoV-2) in Wuhan, China, and its subsequent international spread is unprecedented and generated a global health emergency. To slow the chain of transmission of coronavirus disease (COVID-19), India too responded with containment procedures such as travel bans, lockdowns and social distancing. As the virus transmission and subsequent lockdown have impacted the living habits and social behaviour of general public, there has been considerable curiosity on the genome evolution related to the origin, transmission and vaccine impact with special reference to India. Hence, this work was carried out.$$$The genomic analysis of the Indian genome sequences of SARS-CoV-2 was gathered from GISAID (https://www. gisaid.org/). The genomes containing sampling time and location were chosen for the study. A multiple genome sequence alignment performed with MAFFT (https:// m a ff t . c b r c . j p / a l i g n m e n t / s o f t w a r e / ) . T h e i s o l a t e Wuhan-Hu-1 (MN908947) was used as the reference genome. Maximum likelihood tree was generated using Fasttree (http://www.microbesonline.org/fasttree/). The phylogenetic trees and the geographical distribution are interactively depicted using Microreact (https://microreact. org).$$$The origin of the SARS-CoV-2 is one of the most mysterious and controversial questions of the recent times as there are arguments for and against the natural selection hypothesis. Currently, much of the research related to SARS-CoV-2 is revolving around the likely recombination and mutation that led to the origin of the virus. The initial report on evolution of SARS-CoV-2 from a closely related BatCoV RaTG13 as a result of a recent recombination event seems to be not true. [1] The latest phylogenetic data estimate that the timing of the most recent common ancestor of SARS CoV-2 and RaTG13 suggests the strains diverged 40-70 years ago and the emergence is not a recent recombination event. [2] Since coronaviruses in bats and other species are particularly undersampled, more viral sequences from animal sources would decode the mystery of the origin of SARS-CoV-2.$$$What makes SARS-CoV-2 different from other endemic coronaviruses is the efficient human-human transmission in a short time period. This can be attributed to two notable features in the viral genome (i) mutations in the receptor-binding domain (RBD) and (ii) the furin cleavage site at the S1/S2 boundary of the spike protein. [3] In brief, SARS-CoV-2 is a SARS like lineage B β-CoV carrying RBD identical to Pangolin-β-CoV and furin recognition motif (PRRAR ↓ SV) similar to lineage A and C β-CoV. [4, 5] Up to date globally, 46,570 (as on 15 June 2020) genome sequences of SARS-CoV-2 were in public domain. Tools for real-time tracking, mutation mapping and assigning nomenclature were formulated to support the epidemiological understanding and improve outbreak response (https://nextstrain. org/, http://cov-glue.cvr.gla.ac.uk/#/home). In India, a total of >600 high-quality genome sequences were available in the public domain. The mutation profile suggests increase in genetic diversity within a short period of 5 months. The global phylogenetic distribution shows six high-level phylogenetic groupings (S, L, V, G, GH and GR) classified on the basis of marker mutations. The GISAID lineages were further subclassified using Phylogenetic Assignment of Named Global Outbreak LINeages (PANGOLIN) tool (https://github.com/ hCoV-2019/pangolin). Genomic analysis of India isolates showed lineage PANGOLIN lineage B.1/B.1.1/B.1.36 (previously A2a) with D614G mutation being dominant with a possibility of more efficient transmission. [6] The second common lineage B.6 (previously A3/A3i) [7] in India is less transmissible may be due to the lack of mutation in the spike protein. [8] Phylogeography of Indian SARS-CoV-2 [ Figure 1 ] showed that lineage A isolates are imported cases from central Asia (China) while lineage B.6 and B.1.36 were imported from Southeast Asia and Europe, respectively (Unpublished data). Interestingly, linage B.1.36 dominant in Gujarat possesses 1-3 mutation (D614G, R78M and L54F) in S protein, which may contribute to increased infectivity.$$$Identification of R0 can efficiently predict the spread of virus and also helps in disease containment during outbreak. Studies from 13 different research groups predict the 'R0' value to be ranged between 2 and 7.23. [9] The variation in the 'R0' estimate can be attributed to the differences in mathematical transmission modelling and assumptions methods followed by the authors. In India where the epidemic growth trajectory was slow, the R0 value is estimated to be 1.22-1.85. [10] This can be attributed to the strict control measures and lockdown. After the recent relaxations in restrictions and increase rate of testing, India could register an explosion of cases where local cluster transmissions occur. Hence, the 'R0' are expected to rise further. According to Nation Institute of Epidemiology, Chennai, the projected R0 estimate can reach up to a maximum of 4 without proper containment measures.$$$A vaccine can be the best way to protect the world from this likely catastrophe on an affordable basis. Although it may take 12-18 months for a vaccine roll out, 10 candidate vaccines are in clinical evaluation and 126 are in pre-clinical evaluation (As of 9 June 2020). In India, three major groups have started the pre-clinical evaluation of candidate vaccine in collaboration with leading vaccine groups. The landscape of four COVID-19 candidate vaccines in pipeline is listed in Table 1 . Since many of the candidate vaccines are targeting the S protein, accumulation of missense mutations could possibly affect the vaccine coverage. However, the presence of low mutation rate in S protein makes it a good target for an effective vaccine candidate. Due to the increased mutation frequency in the Orf1a, N proteins make them a less preferable vaccine targets. However, these genes can be used as confirmatory targets for laboratory diagnosis.$$$The current ICMR recommended treatment strategy in India, allow the use of hydroxychloroquine in patients with mild illness and remdesivir in moderate and severe illness. Tocilizumab is recommended in patients with moderate illness after monitoring the inflammatory markers. Though, hydroxychloroquine emerged as a front runner with high hope, hype and politicisation three major studies failed to show significant evidence in using this drug. [11] The use of remdesivir in COVID-19 patients can prevent progression to pneumonia if initiated early. [12] Steroids (dexamethasone) appear to be a promising rescue therapy in management of those with moderate to severe illness. Early administration of tocilizumab as rescue therapy may benefit patients with increased inflammatory response with no evidence of secondary bacterial infection. [13] Moreover low-molecular-weight heparin appears to be associated with better prognosis in severe COVID-19 patients or among those with markedly elevated D-dimer. [14] conclusIon Genome analysis of Indian isolates indicates that PANGOLIN lineage B.1/B.1.1/B.1.36 (previouslyA2a) with D614G mutation being dominant with a possibility of more efficient transmission. The second common lineage B.6 (previously A3/A3i) [7] in India is less transmissible may be due to the lack of mutation in the spike protein. As the mutation frequency in S protein is comparatively lesser, the candidate vaccines expected to have a wide coverage worldwide including India.$$$Nil.$$$There are no conflicts of interest.\",\n",
       " 'meta': {'sha': '1cbf95a2c3a39e5cc80a5c4c6dbcec7cc718fd59',\n",
       "  'title': 'Genomic Evolution of Severe Acute Respiratory Syndrome Coronavirus 2 in India and Vaccine Impact',\n",
       "  'abstract': 'Abstract Recent emergence of severe acute respiratory syndrome coronavirus 2 (SARS-CoV-2) and subsequent containment procedures have impacted the world as never seen before. Therefore, there is considerable curiosity about the genome evolution related to the origin, transmission and vaccine impact of this virus. We have analysed genome sequences of SARS-CoV-2 isolated from Indian patients to gain an in-depth understanding of genomic evolution and transmission in India. Phylogenetic analysis and mutation profiling revealed major lineages being evolved by characteristic mutations. As the mutation frequency in spike protein is comparatively lesser, the candidate vaccines expected to have wide coverage worldwide including India.',\n",
       "  'publish_time': '2020-08-31',\n",
       "  'authors': 'Jacob, Jobin John; Vasudevan, Karthick; Veeraraghavan, Balaji; Iyadurai, Ramya; Gunasekaran, Karthik',\n",
       "  'url': 'https://api.elsevier.com/content/article/pii/S0255085720314894; https://www.sciencedirect.com/science/article/pii/S0255085720314894; https://doi.org/10.4103/ijmm.ijmm_20_303; https://www.ncbi.nlm.nih.gov/pubmed/32883935/'}}"
      ]
     },
     "execution_count": 10,
     "metadata": {},
     "output_type": "execute_result"
    }
   ],
   "source": [
    "final_dicts[0]"
   ]
  },
  {
   "cell_type": "code",
   "execution_count": 11,
   "metadata": {},
   "outputs": [
    {
     "name": "stdout",
     "output_type": "stream",
     "text": [
      "c:\\Users\\manan\\CovidQa\\KBHandler\n"
     ]
    }
   ],
   "source": [
    "import os\n",
    "print(os.getcwd())"
   ]
  },
  {
   "cell_type": "code",
   "execution_count": 12,
   "metadata": {},
   "outputs": [
    {
     "name": "stdout",
     "output_type": "stream",
     "text": [
      "Tue Feb 22 16:13:55 2022       \n",
      "+-----------------------------------------------------------------------------+\n",
      "| NVIDIA-SMI 496.13       Driver Version: 496.13       CUDA Version: 11.5     |\n",
      "|-------------------------------+----------------------+----------------------+\n",
      "| GPU  Name            TCC/WDDM | Bus-Id        Disp.A | Volatile Uncorr. ECC |\n",
      "| Fan  Temp  Perf  Pwr:Usage/Cap|         Memory-Usage | GPU-Util  Compute M. |\n",
      "|                               |                      |               MIG M. |\n",
      "|===============================+======================+======================|\n",
      "|   0  NVIDIA GeForce ... WDDM  | 00000000:01:00.0 Off |                  N/A |\n",
      "| N/A   57C    P8     4W /  N/A |    134MiB /  4096MiB |      0%      Default |\n",
      "|                               |                      |                  N/A |\n",
      "+-------------------------------+----------------------+----------------------+\n",
      "                                                                               \n",
      "+-----------------------------------------------------------------------------+\n",
      "| Processes:                                                                  |\n",
      "|  GPU   GI   CI        PID   Type   Process name                  GPU Memory |\n",
      "|        ID   ID                                                   Usage      |\n",
      "|=============================================================================|\n",
      "|  No running processes found                                                 |\n",
      "+-----------------------------------------------------------------------------+\n"
     ]
    }
   ],
   "source": [
    "!nvidia-smi"
   ]
  },
  {
   "cell_type": "code",
   "execution_count": 13,
   "metadata": {},
   "outputs": [
    {
     "name": "stdout",
     "output_type": "stream",
     "text": [
      "Requirement already satisfied: pip in c:\\users\\manan\\anaconda3\\lib\\site-packages (22.0.3)\n",
      "Note: you may need to restart the kernel to use updated packages.\n",
      "Requirement already satisfied: farm-haystack==0.9.0 in c:\\users\\manan\\anaconda3\\lib\\site-packages (0.9.0)\n",
      "Requirement already satisfied: pandas in c:\\users\\manan\\anaconda3\\lib\\site-packages (from farm-haystack==0.9.0) (1.3.1)\n",
      "Requirement already satisfied: weaviate-client in c:\\users\\manan\\anaconda3\\lib\\site-packages (from farm-haystack==0.9.0) (2.5.0)\n",
      "Requirement already satisfied: uvicorn in c:\\users\\manan\\anaconda3\\lib\\site-packages (from farm-haystack==0.9.0) (0.14.0)\n",
      "Requirement already satisfied: coverage in c:\\users\\manan\\anaconda3\\lib\\site-packages (from farm-haystack==0.9.0) (6.3.1)\n",
      "Requirement already satisfied: networkx in c:\\users\\manan\\anaconda3\\lib\\site-packages (from farm-haystack==0.9.0) (2.6.3)\n",
      "Requirement already satisfied: langdetect in c:\\users\\manan\\anaconda3\\lib\\site-packages (from farm-haystack==0.9.0) (1.0.9)\n",
      "Requirement already satisfied: nltk in c:\\users\\manan\\anaconda3\\lib\\site-packages (from farm-haystack==0.9.0) (3.6.5)\n",
      "Requirement already satisfied: sklearn in c:\\users\\manan\\anaconda3\\lib\\site-packages (from farm-haystack==0.9.0) (0.0)\n",
      "Requirement already satisfied: elastic-apm in c:\\users\\manan\\anaconda3\\lib\\site-packages (from farm-haystack==0.9.0) (6.7.2)\n",
      "Requirement already satisfied: pymilvus in c:\\users\\manan\\anaconda3\\lib\\site-packages (from farm-haystack==0.9.0) (2.0.0)\n",
      "Requirement already satisfied: sqlalchemy-utils in c:\\users\\manan\\anaconda3\\lib\\site-packages (from farm-haystack==0.9.0) (0.38.2)\n",
      "Requirement already satisfied: elasticsearch<=7.10,>=7.7 in c:\\users\\manan\\anaconda3\\lib\\site-packages (from farm-haystack==0.9.0) (7.10.0)\n",
      "Requirement already satisfied: faiss-cpu>=1.6.3 in c:\\users\\manan\\anaconda3\\lib\\site-packages (from farm-haystack==0.9.0) (1.7.2)\n",
      "Requirement already satisfied: python-docx in c:\\users\\manan\\anaconda3\\lib\\site-packages (from farm-haystack==0.9.0) (0.8.11)\n",
      "Requirement already satisfied: farm==0.8.0 in c:\\users\\manan\\anaconda3\\lib\\site-packages (from farm-haystack==0.9.0) (0.8.0)\n",
      "Note: you may need to restart the kernel to use updated packages.\n",
      "Requirement already satisfied: python-multipart in c:\\users\\manan\\anaconda3\\lib\\site-packages (from farm-haystack==0.9.0) (0.0.5)\n",
      "Requirement already satisfied: sqlalchemy>=1.4.2 in c:\\users\\manan\\anaconda3\\lib\\site-packages (from farm-haystack==0.9.0) (1.4.27)\n",
      "Requirement already satisfied: fastapi in c:\\users\\manan\\anaconda3\\lib\\site-packages (from farm-haystack==0.9.0) (0.66.0)\n",
      "Requirement already satisfied: more-itertools in c:\\users\\manan\\anaconda3\\lib\\site-packages (from farm-haystack==0.9.0) (8.12.0)\n",
      "Requirement already satisfied: tika in c:\\users\\manan\\anaconda3\\lib\\site-packages (from farm-haystack==0.9.0) (1.24)\n",
      "Requirement already satisfied: mmh3 in c:\\users\\manan\\anaconda3\\lib\\site-packages (from farm-haystack==0.9.0) (3.0.0)\n",
      "Requirement already satisfied: httptools in c:\\users\\manan\\anaconda3\\lib\\site-packages (from farm-haystack==0.9.0) (0.3.0)\n",
      "Requirement already satisfied: gunicorn in c:\\users\\manan\\anaconda3\\lib\\site-packages (from farm-haystack==0.9.0) (20.1.0)\n",
      "Requirement already satisfied: SPARQLWrapper in c:\\users\\manan\\anaconda3\\lib\\site-packages (from farm-haystack==0.9.0) (1.8.5)\n",
      "Requirement already satisfied: tox in c:\\users\\manan\\anaconda3\\lib\\site-packages (from farm-haystack==0.9.0) (3.24.5)\n",
      "Requirement already satisfied: flask-restplus in c:\\users\\manan\\anaconda3\\lib\\site-packages (from farm==0.8.0->farm-haystack==0.9.0) (0.13.0)\n",
      "Requirement already satisfied: dill in c:\\users\\manan\\anaconda3\\lib\\site-packages (from farm==0.8.0->farm-haystack==0.9.0) (0.3.4)\n",
      "Requirement already satisfied: Werkzeug==0.16.1 in c:\\users\\manan\\anaconda3\\lib\\site-packages (from farm==0.8.0->farm-haystack==0.9.0) (0.16.1)\n",
      "Requirement already satisfied: psutil in c:\\users\\manan\\anaconda3\\lib\\site-packages (from farm==0.8.0->farm-haystack==0.9.0) (5.8.0)\n",
      "Requirement already satisfied: torch<1.9,>1.5 in c:\\users\\manan\\anaconda3\\lib\\site-packages (from farm==0.8.0->farm-haystack==0.9.0) (1.8.1)\n",
      "Requirement already satisfied: seqeval in c:\\users\\manan\\anaconda3\\lib\\site-packages (from farm==0.8.0->farm-haystack==0.9.0) (1.2.2)\n",
      "Requirement already satisfied: boto3 in c:\\users\\manan\\anaconda3\\lib\\site-packages (from farm==0.8.0->farm-haystack==0.9.0) (1.20.24)\n",
      "Requirement already satisfied: wheel in c:\\users\\manan\\anaconda3\\lib\\site-packages (from farm==0.8.0->farm-haystack==0.9.0) (0.37.1)\n",
      "Requirement already satisfied: tqdm in c:\\users\\manan\\anaconda3\\lib\\site-packages (from farm==0.8.0->farm-haystack==0.9.0) (4.62.0)\n",
      "Requirement already satisfied: sentencepiece in c:\\users\\manan\\anaconda3\\lib\\site-packages (from farm==0.8.0->farm-haystack==0.9.0) (0.1.96)\n",
      "Requirement already satisfied: setuptools in c:\\users\\manan\\anaconda3\\lib\\site-packages (from farm==0.8.0->farm-haystack==0.9.0) (58.0.4)\n",
      "Requirement already satisfied: transformers==4.6.1 in c:\\users\\manan\\anaconda3\\lib\\site-packages (from farm==0.8.0->farm-haystack==0.9.0) (4.6.1)\n",
      "Requirement already satisfied: requests in c:\\users\\manan\\anaconda3\\lib\\site-packages (from farm==0.8.0->farm-haystack==0.9.0) (2.27.1)\n",
      "Requirement already satisfied: flask-cors in c:\\users\\manan\\anaconda3\\lib\\site-packages (from farm==0.8.0->farm-haystack==0.9.0) (3.0.10)\n",
      "Requirement already satisfied: scipy>=1.3.2 in c:\\users\\manan\\anaconda3\\lib\\site-packages (from farm==0.8.0->farm-haystack==0.9.0) (1.7.3)\n",
      "Requirement already satisfied: mlflow<=1.13.1 in c:\\users\\manan\\anaconda3\\lib\\site-packages (from farm==0.8.0->farm-haystack==0.9.0) (1.13.1)\n",
      "Requirement already satisfied: flask in c:\\users\\manan\\anaconda3\\lib\\site-packages (from farm==0.8.0->farm-haystack==0.9.0) (1.1.2)\n",
      "Requirement already satisfied: dotmap in c:\\users\\manan\\anaconda3\\lib\\site-packages (from farm==0.8.0->farm-haystack==0.9.0) (1.3.26)\n",
      "Requirement already satisfied: filelock in c:\\users\\manan\\anaconda3\\lib\\site-packages (from transformers==4.6.1->farm==0.8.0->farm-haystack==0.9.0) (3.4.2)\n",
      "Requirement already satisfied: sacremoses in c:\\users\\manan\\anaconda3\\lib\\site-packages (from transformers==4.6.1->farm==0.8.0->farm-haystack==0.9.0) (0.0.47)\n",
      "Requirement already satisfied: numpy>=1.17 in c:\\users\\manan\\anaconda3\\lib\\site-packages (from transformers==4.6.1->farm==0.8.0->farm-haystack==0.9.0) (1.21.1)\n",
      "Requirement already satisfied: huggingface-hub==0.0.8 in c:\\users\\manan\\anaconda3\\lib\\site-packages (from transformers==4.6.1->farm==0.8.0->farm-haystack==0.9.0) (0.0.8)\n",
      "Requirement already satisfied: tokenizers<0.11,>=0.10.1 in c:\\users\\manan\\anaconda3\\lib\\site-packages (from transformers==4.6.1->farm==0.8.0->farm-haystack==0.9.0) (0.10.3)\n",
      "Requirement already satisfied: regex!=2019.12.17 in c:\\users\\manan\\anaconda3\\lib\\site-packages (from transformers==4.6.1->farm==0.8.0->farm-haystack==0.9.0) (2021.8.3)\n",
      "Requirement already satisfied: packaging in c:\\users\\manan\\anaconda3\\lib\\site-packages (from transformers==4.6.1->farm==0.8.0->farm-haystack==0.9.0) (21.3)\n",
      "Requirement already satisfied: certifi in c:\\users\\manan\\anaconda3\\lib\\site-packages (from elasticsearch<=7.10,>=7.7->farm-haystack==0.9.0) (2021.10.8)\n",
      "Requirement already satisfied: urllib3<2,>=1.21.1 in c:\\users\\manan\\anaconda3\\lib\\site-packages (from elasticsearch<=7.10,>=7.7->farm-haystack==0.9.0) (1.26.8)\n",
      "Requirement already satisfied: greenlet!=0.4.17 in c:\\users\\manan\\anaconda3\\lib\\site-packages (from sqlalchemy>=1.4.2->farm-haystack==0.9.0) (1.1.1)\n",
      "Requirement already satisfied: starlette==0.14.2 in c:\\users\\manan\\anaconda3\\lib\\site-packages (from fastapi->farm-haystack==0.9.0) (0.14.2)\n",
      "Requirement already satisfied: pydantic!=1.7,!=1.7.1,!=1.7.2,!=1.7.3,!=1.8,!=1.8.1,<2.0.0,>=1.6.2 in c:\\users\\manan\\anaconda3\\lib\\site-packages (from fastapi->farm-haystack==0.9.0) (1.8.2)\n",
      "Requirement already satisfied: six in c:\\users\\manan\\anaconda3\\lib\\site-packages (from langdetect->farm-haystack==0.9.0) (1.16.0)\n",
      "Requirement already satisfied: click in c:\\users\\manan\\anaconda3\\lib\\site-packages (from nltk->farm-haystack==0.9.0) (7.1.2)\n",
      "Requirement already satisfied: joblib in c:\\users\\manan\\anaconda3\\lib\\site-packages (from nltk->farm-haystack==0.9.0) (1.1.0)\n",
      "Requirement already satisfied: pytz>=2017.3 in c:\\users\\manan\\anaconda3\\lib\\site-packages (from pandas->farm-haystack==0.9.0) (2021.3)\n",
      "Requirement already satisfied: python-dateutil>=2.7.3 in c:\\users\\manan\\anaconda3\\lib\\site-packages (from pandas->farm-haystack==0.9.0) (2.8.2)\n",
      "Requirement already satisfied: grpcio==1.37.1 in c:\\users\\manan\\anaconda3\\lib\\site-packages (from pymilvus->farm-haystack==0.9.0) (1.37.1)\n",
      "Requirement already satisfied: grpcio-tools==1.37.1 in c:\\users\\manan\\anaconda3\\lib\\site-packages (from pymilvus->farm-haystack==0.9.0) (1.37.1)\n",
      "Requirement already satisfied: ujson<=5.1.0,>=2.0.0 in c:\\users\\manan\\anaconda3\\lib\\site-packages (from pymilvus->farm-haystack==0.9.0) (4.0.2)\n",
      "Requirement already satisfied: protobuf<4.0dev,>=3.5.0.post1 in c:\\users\\manan\\anaconda3\\lib\\site-packages (from grpcio-tools==1.37.1->pymilvus->farm-haystack==0.9.0) (3.19.1)\n",
      "Requirement already satisfied: lxml>=2.3.2 in c:\\users\\manan\\anaconda3\\lib\\site-packages (from python-docx->farm-haystack==0.9.0) (4.7.1)\n",
      "Requirement already satisfied: scikit-learn in c:\\users\\manan\\anaconda3\\lib\\site-packages (from sklearn->farm-haystack==0.9.0) (1.0.2)\n",
      "Requirement already satisfied: rdflib>=4.0 in c:\\users\\manan\\anaconda3\\lib\\site-packages (from SPARQLWrapper->farm-haystack==0.9.0) (6.1.1)\n",
      "Requirement already satisfied: virtualenv!=20.0.0,!=20.0.1,!=20.0.2,!=20.0.3,!=20.0.4,!=20.0.5,!=20.0.6,!=20.0.7,>=16.0.0 in c:\\users\\manan\\anaconda3\\lib\\site-packages (from tox->farm-haystack==0.9.0) (20.13.1)\n",
      "Requirement already satisfied: pluggy>=0.12.0 in c:\\users\\manan\\anaconda3\\lib\\site-packages (from tox->farm-haystack==0.9.0) (1.0.0)\n",
      "Requirement already satisfied: colorama>=0.4.1 in c:\\users\\manan\\anaconda3\\lib\\site-packages (from tox->farm-haystack==0.9.0) (0.4.4)\n",
      "Requirement already satisfied: py>=1.4.17 in c:\\users\\manan\\anaconda3\\lib\\site-packages (from tox->farm-haystack==0.9.0) (1.11.0)\n",
      "Requirement already satisfied: toml>=0.9.4 in c:\\users\\manan\\anaconda3\\lib\\site-packages (from tox->farm-haystack==0.9.0) (0.10.2)\n",
      "Requirement already satisfied: h11>=0.8 in c:\\users\\manan\\anaconda3\\lib\\site-packages (from uvicorn->farm-haystack==0.9.0) (0.13.0)\n",
      "Requirement already satisfied: asgiref>=3.3.4 in c:\\users\\manan\\anaconda3\\lib\\site-packages (from uvicorn->farm-haystack==0.9.0) (3.5.0)\n",
      "Requirement already satisfied: validators>=0.18.2 in c:\\users\\manan\\anaconda3\\lib\\site-packages (from weaviate-client->farm-haystack==0.9.0) (0.18.2)\n",
      "Requirement already satisfied: waitress in c:\\users\\manan\\anaconda3\\lib\\site-packages (from mlflow<=1.13.1->farm==0.8.0->farm-haystack==0.9.0) (2.0.0)\n",
      "Requirement already satisfied: azure-storage-blob>=12.0.0 in c:\\users\\manan\\anaconda3\\lib\\site-packages (from mlflow<=1.13.1->farm==0.8.0->farm-haystack==0.9.0) (12.9.0)\n",
      "Requirement already satisfied: pyyaml in c:\\users\\manan\\anaconda3\\lib\\site-packages (from mlflow<=1.13.1->farm==0.8.0->farm-haystack==0.9.0) (6.0)\n",
      "Requirement already satisfied: querystring-parser in c:\\users\\manan\\anaconda3\\lib\\site-packages (from mlflow<=1.13.1->farm==0.8.0->farm-haystack==0.9.0) (1.2.4)\n",
      "Requirement already satisfied: prometheus-flask-exporter in c:\\users\\manan\\anaconda3\\lib\\site-packages (from mlflow<=1.13.1->farm==0.8.0->farm-haystack==0.9.0) (0.18.7)\n",
      "Requirement already satisfied: gitpython>=2.1.0 in c:\\users\\manan\\anaconda3\\lib\\site-packages (from mlflow<=1.13.1->farm==0.8.0->farm-haystack==0.9.0) (3.1.26)\n",
      "Requirement already satisfied: docker>=4.0.0 in c:\\users\\manan\\anaconda3\\lib\\site-packages (from mlflow<=1.13.1->farm==0.8.0->farm-haystack==0.9.0) (5.0.3)\n",
      "Requirement already satisfied: databricks-cli>=0.8.7 in c:\\users\\manan\\anaconda3\\lib\\site-packages (from mlflow<=1.13.1->farm==0.8.0->farm-haystack==0.9.0) (0.16.4)\n",
      "Requirement already satisfied: sqlparse>=0.3.1 in c:\\users\\manan\\anaconda3\\lib\\site-packages (from mlflow<=1.13.1->farm==0.8.0->farm-haystack==0.9.0) (0.4.2)\n",
      "Requirement already satisfied: cloudpickle in c:\\users\\manan\\anaconda3\\lib\\site-packages (from mlflow<=1.13.1->farm==0.8.0->farm-haystack==0.9.0) (2.0.0)\n",
      "Requirement already satisfied: alembic<=1.4.1 in c:\\users\\manan\\anaconda3\\lib\\site-packages (from mlflow<=1.13.1->farm==0.8.0->farm-haystack==0.9.0) (1.4.1)\n",
      "Requirement already satisfied: entrypoints in c:\\users\\manan\\anaconda3\\lib\\site-packages (from mlflow<=1.13.1->farm==0.8.0->farm-haystack==0.9.0) (0.3)\n",
      "Requirement already satisfied: pyparsing!=3.0.5,>=2.0.2 in c:\\users\\manan\\anaconda3\\lib\\site-packages (from packaging->transformers==4.6.1->farm==0.8.0->farm-haystack==0.9.0) (3.0.4)\n",
      "Requirement already satisfied: typing-extensions>=3.7.4.3 in c:\\users\\manan\\anaconda3\\lib\\site-packages (from pydantic!=1.7,!=1.7.1,!=1.7.2,!=1.7.3,!=1.8,!=1.8.1,<2.0.0,>=1.6.2->fastapi->farm-haystack==0.9.0) (3.10.0.2)\n",
      "Requirement already satisfied: isodate in c:\\users\\manan\\anaconda3\\lib\\site-packages (from rdflib>=4.0->SPARQLWrapper->farm-haystack==0.9.0) (0.6.1)\n",
      "Requirement already satisfied: idna<4,>=2.5 in c:\\users\\manan\\anaconda3\\lib\\site-packages (from requests->farm==0.8.0->farm-haystack==0.9.0) (3.3)\n",
      "Requirement already satisfied: charset-normalizer~=2.0.0 in c:\\users\\manan\\anaconda3\\lib\\site-packages (from requests->farm==0.8.0->farm-haystack==0.9.0) (2.0.4)\n",
      "Requirement already satisfied: decorator>=3.4.0 in c:\\users\\manan\\anaconda3\\lib\\site-packages (from validators>=0.18.2->weaviate-client->farm-haystack==0.9.0) (5.1.1)\n",
      "Requirement already satisfied: platformdirs<3,>=2 in c:\\users\\manan\\anaconda3\\lib\\site-packages (from virtualenv!=20.0.0,!=20.0.1,!=20.0.2,!=20.0.3,!=20.0.4,!=20.0.5,!=20.0.6,!=20.0.7,>=16.0.0->tox->farm-haystack==0.9.0) (2.5.0)\n",
      "Requirement already satisfied: distlib<1,>=0.3.1 in c:\\users\\manan\\anaconda3\\lib\\site-packages (from virtualenv!=20.0.0,!=20.0.1,!=20.0.2,!=20.0.3,!=20.0.4,!=20.0.5,!=20.0.6,!=20.0.7,>=16.0.0->tox->farm-haystack==0.9.0) (0.3.4)\n",
      "Requirement already satisfied: botocore<1.24.0,>=1.23.24 in c:\\users\\manan\\anaconda3\\lib\\site-packages (from boto3->farm==0.8.0->farm-haystack==0.9.0) (1.23.24)\n",
      "Requirement already satisfied: s3transfer<0.6.0,>=0.5.0 in c:\\users\\manan\\anaconda3\\lib\\site-packages (from boto3->farm==0.8.0->farm-haystack==0.9.0) (0.5.0)\n",
      "Requirement already satisfied: jmespath<1.0.0,>=0.7.1 in c:\\users\\manan\\anaconda3\\lib\\site-packages (from boto3->farm==0.8.0->farm-haystack==0.9.0) (0.10.0)\n",
      "Requirement already satisfied: Jinja2>=2.10.1 in c:\\users\\manan\\anaconda3\\lib\\site-packages (from flask->farm==0.8.0->farm-haystack==0.9.0) (2.11.3)\n",
      "Requirement already satisfied: itsdangerous>=0.24 in c:\\users\\manan\\anaconda3\\lib\\site-packages (from flask->farm==0.8.0->farm-haystack==0.9.0) (2.0.1)\n",
      "Requirement already satisfied: jsonschema in c:\\users\\manan\\anaconda3\\lib\\site-packages (from flask-restplus->farm==0.8.0->farm-haystack==0.9.0) (3.2.0)\n",
      "Requirement already satisfied: aniso8601>=0.82 in c:\\users\\manan\\anaconda3\\lib\\site-packages (from flask-restplus->farm==0.8.0->farm-haystack==0.9.0) (9.0.1)\n",
      "Requirement already satisfied: threadpoolctl>=2.0.0 in c:\\users\\manan\\anaconda3\\lib\\site-packages (from scikit-learn->sklearn->farm-haystack==0.9.0) (2.2.0)\n",
      "Requirement already satisfied: Mako in c:\\users\\manan\\anaconda3\\lib\\site-packages (from alembic<=1.4.1->mlflow<=1.13.1->farm==0.8.0->farm-haystack==0.9.0) (1.1.6)\n",
      "Requirement already satisfied: python-editor>=0.3 in c:\\users\\manan\\anaconda3\\lib\\site-packages (from alembic<=1.4.1->mlflow<=1.13.1->farm==0.8.0->farm-haystack==0.9.0) (1.0.4)\n",
      "Requirement already satisfied: cryptography>=2.1.4 in c:\\users\\manan\\anaconda3\\lib\\site-packages (from azure-storage-blob>=12.0.0->mlflow<=1.13.1->farm==0.8.0->farm-haystack==0.9.0) (3.4.8)\n",
      "Requirement already satisfied: azure-core<2.0.0,>=1.10.0 in c:\\users\\manan\\anaconda3\\lib\\site-packages (from azure-storage-blob>=12.0.0->mlflow<=1.13.1->farm==0.8.0->farm-haystack==0.9.0) (1.22.1)\n",
      "Requirement already satisfied: msrest>=0.6.21 in c:\\users\\manan\\anaconda3\\lib\\site-packages (from azure-storage-blob>=12.0.0->mlflow<=1.13.1->farm==0.8.0->farm-haystack==0.9.0) (0.6.21)\n",
      "Requirement already satisfied: tabulate>=0.7.7 in c:\\users\\manan\\anaconda3\\lib\\site-packages (from databricks-cli>=0.8.7->mlflow<=1.13.1->farm==0.8.0->farm-haystack==0.9.0) (0.8.9)\n",
      "Requirement already satisfied: pywin32==227 in c:\\users\\manan\\anaconda3\\lib\\site-packages (from docker>=4.0.0->mlflow<=1.13.1->farm==0.8.0->farm-haystack==0.9.0) (227)\n",
      "Requirement already satisfied: websocket-client>=0.32.0 in c:\\users\\manan\\anaconda3\\lib\\site-packages (from docker>=4.0.0->mlflow<=1.13.1->farm==0.8.0->farm-haystack==0.9.0) (1.2.3)\n",
      "Requirement already satisfied: gitdb<5,>=4.0.1 in c:\\users\\manan\\anaconda3\\lib\\site-packages (from gitpython>=2.1.0->mlflow<=1.13.1->farm==0.8.0->farm-haystack==0.9.0) (4.0.9)\n",
      "Requirement already satisfied: MarkupSafe>=0.23 in c:\\users\\manan\\anaconda3\\lib\\site-packages (from Jinja2>=2.10.1->flask->farm==0.8.0->farm-haystack==0.9.0) (1.1.1)\n",
      "Requirement already satisfied: attrs>=17.4.0 in c:\\users\\manan\\anaconda3\\lib\\site-packages (from jsonschema->flask-restplus->farm==0.8.0->farm-haystack==0.9.0) (21.4.0)\n",
      "Requirement already satisfied: pyrsistent>=0.14.0 in c:\\users\\manan\\anaconda3\\lib\\site-packages (from jsonschema->flask-restplus->farm==0.8.0->farm-haystack==0.9.0) (0.18.0)\n",
      "Requirement already satisfied: prometheus-client in c:\\users\\manan\\anaconda3\\lib\\site-packages (from prometheus-flask-exporter->mlflow<=1.13.1->farm==0.8.0->farm-haystack==0.9.0) (0.13.1)\n",
      "Requirement already satisfied: cffi>=1.12 in c:\\users\\manan\\anaconda3\\lib\\site-packages (from cryptography>=2.1.4->azure-storage-blob>=12.0.0->mlflow<=1.13.1->farm==0.8.0->farm-haystack==0.9.0) (1.15.0)\n",
      "Requirement already satisfied: smmap<6,>=3.0.1 in c:\\users\\manan\\anaconda3\\lib\\site-packages (from gitdb<5,>=4.0.1->gitpython>=2.1.0->mlflow<=1.13.1->farm==0.8.0->farm-haystack==0.9.0) (5.0.0)\n",
      "Requirement already satisfied: requests-oauthlib>=0.5.0 in c:\\users\\manan\\anaconda3\\lib\\site-packages (from msrest>=0.6.21->azure-storage-blob>=12.0.0->mlflow<=1.13.1->farm==0.8.0->farm-haystack==0.9.0) (1.3.0)\n",
      "Requirement already satisfied: pycparser in c:\\users\\manan\\anaconda3\\lib\\site-packages (from cffi>=1.12->cryptography>=2.1.4->azure-storage-blob>=12.0.0->mlflow<=1.13.1->farm==0.8.0->farm-haystack==0.9.0) (2.21)\n",
      "Requirement already satisfied: oauthlib>=3.0.0 in c:\\users\\manan\\anaconda3\\lib\\site-packages (from requests-oauthlib>=0.5.0->msrest>=0.6.21->azure-storage-blob>=12.0.0->mlflow<=1.13.1->farm==0.8.0->farm-haystack==0.9.0) (3.1.1)\n",
      "Requirement already satisfied: farm in c:\\users\\manan\\anaconda3\\lib\\site-packages (0.8.0)\n",
      "Requirement already satisfied: transformers==4.6.1 in c:\\users\\manan\\anaconda3\\lib\\site-packages (from farm) (4.6.1)\n",
      "Requirement already satisfied: wheel in c:\\users\\manan\\anaconda3\\lib\\site-packages (from farm) (0.37.1)\n",
      "Note: you may need to restart the kernel to use updated packages.Requirement already satisfied: Werkzeug==0.16.1 in c:\\users\\manan\\anaconda3\\lib\\site-packages (from farm) (0.16.1)\n",
      "\n",
      "Requirement already satisfied: dill in c:\\users\\manan\\anaconda3\\lib\\site-packages (from farm) (0.3.4)\n",
      "Requirement already satisfied: requests in c:\\users\\manan\\anaconda3\\lib\\site-packages (from farm) (2.27.1)\n",
      "Requirement already satisfied: seqeval in c:\\users\\manan\\anaconda3\\lib\\site-packages (from farm) (1.2.2)\n",
      "Requirement already satisfied: flask in c:\\users\\manan\\anaconda3\\lib\\site-packages (from farm) (1.1.2)\n",
      "Requirement already satisfied: flask-restplus in c:\\users\\manan\\anaconda3\\lib\\site-packages (from farm) (0.13.0)\n",
      "Requirement already satisfied: sklearn in c:\\users\\manan\\anaconda3\\lib\\site-packages (from farm) (0.0)\n",
      "Requirement already satisfied: psutil in c:\\users\\manan\\anaconda3\\lib\\site-packages (from farm) (5.8.0)\n",
      "Requirement already satisfied: sentencepiece in c:\\users\\manan\\anaconda3\\lib\\site-packages (from farm) (0.1.96)\n",
      "Requirement already satisfied: setuptools in c:\\users\\manan\\anaconda3\\lib\\site-packages (from farm) (58.0.4)\n",
      "Requirement already satisfied: boto3 in c:\\users\\manan\\anaconda3\\lib\\site-packages (from farm) (1.20.24)\n",
      "Requirement already satisfied: flask-cors in c:\\users\\manan\\anaconda3\\lib\\site-packages (from farm) (3.0.10)\n",
      "Requirement already satisfied: dotmap in c:\\users\\manan\\anaconda3\\lib\\site-packages (from farm) (1.3.26)\n",
      "Requirement already satisfied: torch<1.9,>1.5 in c:\\users\\manan\\anaconda3\\lib\\site-packages (from farm) (1.8.1)\n",
      "Requirement already satisfied: scipy>=1.3.2 in c:\\users\\manan\\anaconda3\\lib\\site-packages (from farm) (1.7.3)\n",
      "Requirement already satisfied: mlflow<=1.13.1 in c:\\users\\manan\\anaconda3\\lib\\site-packages (from farm) (1.13.1)\n",
      "Requirement already satisfied: tqdm in c:\\users\\manan\\anaconda3\\lib\\site-packages (from farm) (4.62.0)\n",
      "Requirement already satisfied: filelock in c:\\users\\manan\\anaconda3\\lib\\site-packages (from transformers==4.6.1->farm) (3.4.2)\n",
      "Requirement already satisfied: numpy>=1.17 in c:\\users\\manan\\anaconda3\\lib\\site-packages (from transformers==4.6.1->farm) (1.21.1)\n",
      "Requirement already satisfied: huggingface-hub==0.0.8 in c:\\users\\manan\\anaconda3\\lib\\site-packages (from transformers==4.6.1->farm) (0.0.8)\n",
      "Requirement already satisfied: tokenizers<0.11,>=0.10.1 in c:\\users\\manan\\anaconda3\\lib\\site-packages (from transformers==4.6.1->farm) (0.10.3)\n",
      "Requirement already satisfied: sacremoses in c:\\users\\manan\\anaconda3\\lib\\site-packages (from transformers==4.6.1->farm) (0.0.47)\n",
      "Requirement already satisfied: packaging in c:\\users\\manan\\anaconda3\\lib\\site-packages (from transformers==4.6.1->farm) (21.3)\n",
      "Requirement already satisfied: regex!=2019.12.17 in c:\\users\\manan\\anaconda3\\lib\\site-packages (from transformers==4.6.1->farm) (2021.8.3)\n",
      "Requirement already satisfied: prometheus-flask-exporter in c:\\users\\manan\\anaconda3\\lib\\site-packages (from mlflow<=1.13.1->farm) (0.18.7)\n",
      "Requirement already satisfied: click>=7.0 in c:\\users\\manan\\anaconda3\\lib\\site-packages (from mlflow<=1.13.1->farm) (7.1.2)\n",
      "Requirement already satisfied: gitpython>=2.1.0 in c:\\users\\manan\\anaconda3\\lib\\site-packages (from mlflow<=1.13.1->farm) (3.1.26)\n",
      "Requirement already satisfied: six>=1.10.0 in c:\\users\\manan\\anaconda3\\lib\\site-packages (from mlflow<=1.13.1->farm) (1.16.0)\n",
      "Requirement already satisfied: pyyaml in c:\\users\\manan\\anaconda3\\lib\\site-packages (from mlflow<=1.13.1->farm) (6.0)\n",
      "Requirement already satisfied: cloudpickle in c:\\users\\manan\\anaconda3\\lib\\site-packages (from mlflow<=1.13.1->farm) (2.0.0)\n",
      "Requirement already satisfied: databricks-cli>=0.8.7 in c:\\users\\manan\\anaconda3\\lib\\site-packages (from mlflow<=1.13.1->farm) (0.16.4)\n",
      "Requirement already satisfied: entrypoints in c:\\users\\manan\\anaconda3\\lib\\site-packages (from mlflow<=1.13.1->farm) (0.3)\n",
      "Requirement already satisfied: pandas in c:\\users\\manan\\anaconda3\\lib\\site-packages (from mlflow<=1.13.1->farm) (1.3.1)\n",
      "Requirement already satisfied: sqlparse>=0.3.1 in c:\\users\\manan\\anaconda3\\lib\\site-packages (from mlflow<=1.13.1->farm) (0.4.2)\n",
      "Requirement already satisfied: alembic<=1.4.1 in c:\\users\\manan\\anaconda3\\lib\\site-packages (from mlflow<=1.13.1->farm) (1.4.1)\n",
      "Requirement already satisfied: waitress in c:\\users\\manan\\anaconda3\\lib\\site-packages (from mlflow<=1.13.1->farm) (2.0.0)\n",
      "Requirement already satisfied: azure-storage-blob>=12.0.0 in c:\\users\\manan\\anaconda3\\lib\\site-packages (from mlflow<=1.13.1->farm) (12.9.0)\n",
      "Requirement already satisfied: python-dateutil in c:\\users\\manan\\anaconda3\\lib\\site-packages (from mlflow<=1.13.1->farm) (2.8.2)\n",
      "Requirement already satisfied: sqlalchemy in c:\\users\\manan\\anaconda3\\lib\\site-packages (from mlflow<=1.13.1->farm) (1.4.27)\n",
      "Requirement already satisfied: querystring-parser in c:\\users\\manan\\anaconda3\\lib\\site-packages (from mlflow<=1.13.1->farm) (1.2.4)\n",
      "Requirement already satisfied: protobuf>=3.6.0 in c:\\users\\manan\\anaconda3\\lib\\site-packages (from mlflow<=1.13.1->farm) (3.19.1)\n",
      "Requirement already satisfied: docker>=4.0.0 in c:\\users\\manan\\anaconda3\\lib\\site-packages (from mlflow<=1.13.1->farm) (5.0.3)\n",
      "Requirement already satisfied: urllib3<1.27,>=1.21.1 in c:\\users\\manan\\anaconda3\\lib\\site-packages (from requests->farm) (1.26.8)\n",
      "Requirement already satisfied: idna<4,>=2.5 in c:\\users\\manan\\anaconda3\\lib\\site-packages (from requests->farm) (3.3)\n",
      "Requirement already satisfied: certifi>=2017.4.17 in c:\\users\\manan\\anaconda3\\lib\\site-packages (from requests->farm) (2021.10.8)\n",
      "Requirement already satisfied: charset-normalizer~=2.0.0 in c:\\users\\manan\\anaconda3\\lib\\site-packages (from requests->farm) (2.0.4)\n",
      "Requirement already satisfied: typing-extensions in c:\\users\\manan\\anaconda3\\lib\\site-packages (from torch<1.9,>1.5->farm) (3.10.0.2)\n",
      "Requirement already satisfied: colorama in c:\\users\\manan\\anaconda3\\lib\\site-packages (from tqdm->farm) (0.4.4)\n",
      "Requirement already satisfied: botocore<1.24.0,>=1.23.24 in c:\\users\\manan\\anaconda3\\lib\\site-packages (from boto3->farm) (1.23.24)\n",
      "Requirement already satisfied: s3transfer<0.6.0,>=0.5.0 in c:\\users\\manan\\anaconda3\\lib\\site-packages (from boto3->farm) (0.5.0)\n",
      "Requirement already satisfied: jmespath<1.0.0,>=0.7.1 in c:\\users\\manan\\anaconda3\\lib\\site-packages (from boto3->farm) (0.10.0)\n",
      "Requirement already satisfied: itsdangerous>=0.24 in c:\\users\\manan\\anaconda3\\lib\\site-packages (from flask->farm) (2.0.1)\n",
      "Requirement already satisfied: Jinja2>=2.10.1 in c:\\users\\manan\\anaconda3\\lib\\site-packages (from flask->farm) (2.11.3)\n",
      "Requirement already satisfied: jsonschema in c:\\users\\manan\\anaconda3\\lib\\site-packages (from flask-restplus->farm) (3.2.0)\n",
      "Requirement already satisfied: pytz in c:\\users\\manan\\anaconda3\\lib\\site-packages (from flask-restplus->farm) (2021.3)\n",
      "Requirement already satisfied: aniso8601>=0.82 in c:\\users\\manan\\anaconda3\\lib\\site-packages (from flask-restplus->farm) (9.0.1)\n",
      "Requirement already satisfied: scikit-learn>=0.21.3 in c:\\users\\manan\\anaconda3\\lib\\site-packages (from seqeval->farm) (1.0.2)\n",
      "Requirement already satisfied: python-editor>=0.3 in c:\\users\\manan\\anaconda3\\lib\\site-packages (from alembic<=1.4.1->mlflow<=1.13.1->farm) (1.0.4)\n",
      "Requirement already satisfied: Mako in c:\\users\\manan\\anaconda3\\lib\\site-packages (from alembic<=1.4.1->mlflow<=1.13.1->farm) (1.1.6)\n",
      "Requirement already satisfied: cryptography>=2.1.4 in c:\\users\\manan\\anaconda3\\lib\\site-packages (from azure-storage-blob>=12.0.0->mlflow<=1.13.1->farm) (3.4.8)\n",
      "Requirement already satisfied: azure-core<2.0.0,>=1.10.0 in c:\\users\\manan\\anaconda3\\lib\\site-packages (from azure-storage-blob>=12.0.0->mlflow<=1.13.1->farm) (1.22.1)\n",
      "Requirement already satisfied: msrest>=0.6.21 in c:\\users\\manan\\anaconda3\\lib\\site-packages (from azure-storage-blob>=12.0.0->mlflow<=1.13.1->farm) (0.6.21)\n",
      "Requirement already satisfied: tabulate>=0.7.7 in c:\\users\\manan\\anaconda3\\lib\\site-packages (from databricks-cli>=0.8.7->mlflow<=1.13.1->farm) (0.8.9)\n",
      "Requirement already satisfied: pywin32==227 in c:\\users\\manan\\anaconda3\\lib\\site-packages (from docker>=4.0.0->mlflow<=1.13.1->farm) (227)\n",
      "Requirement already satisfied: websocket-client>=0.32.0 in c:\\users\\manan\\anaconda3\\lib\\site-packages (from docker>=4.0.0->mlflow<=1.13.1->farm) (1.2.3)\n",
      "Requirement already satisfied: gitdb<5,>=4.0.1 in c:\\users\\manan\\anaconda3\\lib\\site-packages (from gitpython>=2.1.0->mlflow<=1.13.1->farm) (4.0.9)\n",
      "Requirement already satisfied: MarkupSafe>=0.23 in c:\\users\\manan\\anaconda3\\lib\\site-packages (from Jinja2>=2.10.1->flask->farm) (1.1.1)\n",
      "Requirement already satisfied: joblib>=0.11 in c:\\users\\manan\\anaconda3\\lib\\site-packages (from scikit-learn>=0.21.3->seqeval->farm) (1.1.0)\n",
      "Requirement already satisfied: threadpoolctl>=2.0.0 in c:\\users\\manan\\anaconda3\\lib\\site-packages (from scikit-learn>=0.21.3->seqeval->farm) (2.2.0)\n",
      "Requirement already satisfied: greenlet!=0.4.17 in c:\\users\\manan\\anaconda3\\lib\\site-packages (from sqlalchemy->mlflow<=1.13.1->farm) (1.1.1)\n",
      "Requirement already satisfied: attrs>=17.4.0 in c:\\users\\manan\\anaconda3\\lib\\site-packages (from jsonschema->flask-restplus->farm) (21.4.0)\n",
      "Requirement already satisfied: pyrsistent>=0.14.0 in c:\\users\\manan\\anaconda3\\lib\\site-packages (from jsonschema->flask-restplus->farm) (0.18.0)\n",
      "Requirement already satisfied: pyparsing!=3.0.5,>=2.0.2 in c:\\users\\manan\\anaconda3\\lib\\site-packages (from packaging->transformers==4.6.1->farm) (3.0.4)\n",
      "Requirement already satisfied: prometheus-client in c:\\users\\manan\\anaconda3\\lib\\site-packages (from prometheus-flask-exporter->mlflow<=1.13.1->farm) (0.13.1)\n",
      "Requirement already satisfied: cffi>=1.12 in c:\\users\\manan\\anaconda3\\lib\\site-packages (from cryptography>=2.1.4->azure-storage-blob>=12.0.0->mlflow<=1.13.1->farm) (1.15.0)\n",
      "Requirement already satisfied: smmap<6,>=3.0.1 in c:\\users\\manan\\anaconda3\\lib\\site-packages (from gitdb<5,>=4.0.1->gitpython>=2.1.0->mlflow<=1.13.1->farm) (5.0.0)\n",
      "Requirement already satisfied: isodate>=0.6.0 in c:\\users\\manan\\anaconda3\\lib\\site-packages (from msrest>=0.6.21->azure-storage-blob>=12.0.0->mlflow<=1.13.1->farm) (0.6.1)\n",
      "Requirement already satisfied: requests-oauthlib>=0.5.0 in c:\\users\\manan\\anaconda3\\lib\\site-packages (from msrest>=0.6.21->azure-storage-blob>=12.0.0->mlflow<=1.13.1->farm) (1.3.0)\n",
      "Requirement already satisfied: pycparser in c:\\users\\manan\\anaconda3\\lib\\site-packages (from cffi>=1.12->cryptography>=2.1.4->azure-storage-blob>=12.0.0->mlflow<=1.13.1->farm) (2.21)\n",
      "Requirement already satisfied: oauthlib>=3.0.0 in c:\\users\\manan\\anaconda3\\lib\\site-packages (from requests-oauthlib>=0.5.0->msrest>=0.6.21->azure-storage-blob>=12.0.0->mlflow<=1.13.1->farm) (3.1.1)\n"
     ]
    }
   ],
   "source": [
    "%pip install --upgrade pip\n",
    "%pip install farm-haystack==0.9.0\n",
    "%pip install farm"
   ]
  },
  {
   "cell_type": "code",
   "execution_count": 14,
   "metadata": {},
   "outputs": [
    {
     "name": "stderr",
     "output_type": "stream",
     "text": [
      "02/22/2022 16:14:34 - INFO - faiss.loader -   Loading faiss with AVX2 support.\n",
      "02/22/2022 16:14:35 - INFO - faiss.loader -   Successfully loaded faiss with AVX2 support.\n",
      "02/22/2022 16:14:35 - INFO - farm.modeling.prediction_head -   Better speed can be achieved with apex installed from https://www.github.com/nvidia/apex .\n",
      "02/22/2022 16:14:38 - INFO - haystack.utils -   Starting Elasticsearch ...\n",
      "02/22/2022 16:14:38 - WARNING - haystack.utils -   Tried to start Elasticsearch through Docker but this failed. It is likely that there is already an existing Elasticsearch instance running. \n"
     ]
    }
   ],
   "source": [
    "from haystack.utils import launch_es\n",
    "\n",
    "launch_es()"
   ]
  },
  {
   "cell_type": "code",
   "execution_count": 15,
   "metadata": {},
   "outputs": [
    {
     "name": "stderr",
     "output_type": "stream",
     "text": [
      "02/22/2022 16:14:38 - INFO - elasticsearch -   HEAD http://localhost:9200/ [status:200 request:0.187s]\n",
      "02/22/2022 16:14:38 - INFO - elasticsearch -   HEAD http://localhost:9200/document [status:200 request:0.014s]\n",
      "02/22/2022 16:14:38 - INFO - elasticsearch -   GET http://localhost:9200/document [status:200 request:0.012s]\n",
      "02/22/2022 16:14:38 - INFO - elasticsearch -   PUT http://localhost:9200/document/_mapping [status:200 request:0.111s]\n",
      "02/22/2022 16:14:38 - INFO - elasticsearch -   HEAD http://localhost:9200/label [status:200 request:0.007s]\n",
      "02/22/2022 16:14:46 - INFO - elasticsearch -   POST http://localhost:9200/_bulk?refresh=wait_for [status:200 request:4.955s]\n",
      "02/22/2022 16:14:50 - INFO - elasticsearch -   POST http://localhost:9200/_bulk?refresh=wait_for [status:200 request:3.773s]\n",
      "02/22/2022 16:14:54 - INFO - elasticsearch -   POST http://localhost:9200/_bulk?refresh=wait_for [status:200 request:3.572s]\n",
      "02/22/2022 16:14:58 - INFO - elasticsearch -   POST http://localhost:9200/_bulk?refresh=wait_for [status:200 request:3.429s]\n",
      "02/22/2022 16:15:01 - INFO - elasticsearch -   POST http://localhost:9200/_bulk?refresh=wait_for [status:200 request:3.589s]\n",
      "02/22/2022 16:15:05 - INFO - elasticsearch -   POST http://localhost:9200/_bulk?refresh=wait_for [status:200 request:2.776s]\n",
      "02/22/2022 16:15:08 - INFO - elasticsearch -   POST http://localhost:9200/_bulk?refresh=wait_for [status:200 request:3.278s]\n",
      "02/22/2022 16:15:13 - INFO - elasticsearch -   POST http://localhost:9200/_bulk?refresh=wait_for [status:200 request:4.296s]\n",
      "02/22/2022 16:15:17 - INFO - elasticsearch -   POST http://localhost:9200/_bulk?refresh=wait_for [status:200 request:3.223s]\n",
      "02/22/2022 16:15:20 - INFO - elasticsearch -   POST http://localhost:9200/_bulk?refresh=wait_for [status:200 request:3.567s]\n",
      "02/22/2022 16:15:24 - INFO - elasticsearch -   POST http://localhost:9200/_bulk?refresh=wait_for [status:200 request:3.242s]\n",
      "02/22/2022 16:15:27 - INFO - elasticsearch -   POST http://localhost:9200/_bulk?refresh=wait_for [status:200 request:3.243s]\n",
      "02/22/2022 16:15:31 - INFO - elasticsearch -   POST http://localhost:9200/_bulk?refresh=wait_for [status:200 request:3.332s]\n",
      "02/22/2022 16:15:35 - INFO - elasticsearch -   POST http://localhost:9200/_bulk?refresh=wait_for [status:200 request:3.385s]\n",
      "02/22/2022 16:15:40 - INFO - elasticsearch -   POST http://localhost:9200/_bulk?refresh=wait_for [status:200 request:4.633s]\n",
      "02/22/2022 16:15:46 - INFO - elasticsearch -   POST http://localhost:9200/_bulk?refresh=wait_for [status:200 request:5.516s]\n",
      "02/22/2022 16:15:51 - INFO - elasticsearch -   POST http://localhost:9200/_bulk?refresh=wait_for [status:200 request:4.424s]\n",
      "02/22/2022 16:15:54 - INFO - elasticsearch -   POST http://localhost:9200/_bulk?refresh=wait_for [status:200 request:3.345s]\n",
      "02/22/2022 16:15:59 - INFO - elasticsearch -   POST http://localhost:9200/_bulk?refresh=wait_for [status:200 request:4.318s]\n",
      "02/22/2022 16:16:03 - INFO - elasticsearch -   POST http://localhost:9200/_bulk?refresh=wait_for [status:200 request:3.402s]\n",
      "02/22/2022 16:16:08 - INFO - elasticsearch -   POST http://localhost:9200/_bulk?refresh=wait_for [status:200 request:4.389s]\n",
      "02/22/2022 16:16:11 - INFO - elasticsearch -   POST http://localhost:9200/_bulk?refresh=wait_for [status:200 request:3.216s]\n",
      "02/22/2022 16:16:15 - INFO - elasticsearch -   POST http://localhost:9200/_bulk?refresh=wait_for [status:200 request:3.263s]\n",
      "02/22/2022 16:16:18 - INFO - elasticsearch -   POST http://localhost:9200/_bulk?refresh=wait_for [status:200 request:3.257s]\n",
      "02/22/2022 16:16:22 - INFO - elasticsearch -   POST http://localhost:9200/_bulk?refresh=wait_for [status:200 request:3.209s]\n",
      "02/22/2022 16:16:24 - INFO - elasticsearch -   POST http://localhost:9200/_bulk?refresh=wait_for [status:200 request:2.376s]\n",
      "02/22/2022 16:16:28 - INFO - elasticsearch -   POST http://localhost:9200/_bulk?refresh=wait_for [status:200 request:3.269s]\n",
      "02/22/2022 16:16:32 - INFO - elasticsearch -   POST http://localhost:9200/_bulk?refresh=wait_for [status:200 request:3.428s]\n",
      "02/22/2022 16:16:35 - INFO - elasticsearch -   POST http://localhost:9200/_bulk?refresh=wait_for [status:200 request:3.370s]\n",
      "02/22/2022 16:16:39 - INFO - elasticsearch -   POST http://localhost:9200/_bulk?refresh=wait_for [status:200 request:3.075s]\n",
      "02/22/2022 16:16:42 - INFO - elasticsearch -   POST http://localhost:9200/_bulk?refresh=wait_for [status:200 request:3.354s]\n",
      "02/22/2022 16:16:46 - INFO - elasticsearch -   POST http://localhost:9200/_bulk?refresh=wait_for [status:200 request:3.345s]\n",
      "02/22/2022 16:16:49 - INFO - elasticsearch -   POST http://localhost:9200/_bulk?refresh=wait_for [status:200 request:3.202s]\n",
      "02/22/2022 16:16:56 - INFO - elasticsearch -   POST http://localhost:9200/_bulk?refresh=wait_for [status:200 request:6.161s]\n",
      "02/22/2022 16:16:59 - INFO - elasticsearch -   POST http://localhost:9200/_bulk?refresh=wait_for [status:200 request:2.440s]\n",
      "02/22/2022 16:17:01 - INFO - elasticsearch -   POST http://localhost:9200/_bulk?refresh=wait_for [status:200 request:2.317s]\n",
      "02/22/2022 16:17:05 - INFO - elasticsearch -   POST http://localhost:9200/_bulk?refresh=wait_for [status:200 request:3.402s]\n",
      "02/22/2022 16:17:08 - INFO - elasticsearch -   POST http://localhost:9200/_bulk?refresh=wait_for [status:200 request:3.210s]\n",
      "02/22/2022 16:17:12 - INFO - elasticsearch -   POST http://localhost:9200/_bulk?refresh=wait_for [status:200 request:3.957s]\n",
      "02/22/2022 16:17:15 - INFO - elasticsearch -   POST http://localhost:9200/_bulk?refresh=wait_for [status:200 request:2.657s]\n",
      "02/22/2022 16:17:19 - INFO - elasticsearch -   POST http://localhost:9200/_bulk?refresh=wait_for [status:200 request:3.229s]\n",
      "02/22/2022 16:17:22 - INFO - elasticsearch -   POST http://localhost:9200/_bulk?refresh=wait_for [status:200 request:2.773s]\n",
      "02/22/2022 16:17:25 - INFO - elasticsearch -   POST http://localhost:9200/_bulk?refresh=wait_for [status:200 request:3.140s]\n",
      "02/22/2022 16:17:29 - INFO - elasticsearch -   POST http://localhost:9200/_bulk?refresh=wait_for [status:200 request:3.256s]\n",
      "02/22/2022 16:17:30 - INFO - elasticsearch -   POST http://localhost:9200/_bulk?refresh=wait_for [status:200 request:1.058s]\n"
     ]
    }
   ],
   "source": [
    "# Connect to Elasticsearch\n",
    "\n",
    "from haystack.document_store import ElasticsearchDocumentStore\n",
    "\n",
    "document_store = ElasticsearchDocumentStore(host=\"localhost\", username=\"\", password=\"\", index=\"document\")\n",
    "document_store.write_documents(final_dicts) "
   ]
  },
  {
   "cell_type": "code",
   "execution_count": null,
   "metadata": {},
   "outputs": [],
   "source": []
  }
 ],
 "metadata": {
  "interpreter": {
   "hash": "f1adc9a8f35e6e6dee172c2d8c3c0ce98886b562ddde26c181735dbe664e7543"
  },
  "kernelspec": {
   "display_name": "Python 3.10.2 64-bit",
   "language": "python",
   "name": "python3"
  },
  "language_info": {
   "codemirror_mode": {
    "name": "ipython",
    "version": 3
   },
   "file_extension": ".py",
   "mimetype": "text/x-python",
   "name": "python",
   "nbconvert_exporter": "python",
   "pygments_lexer": "ipython3",
   "version": "3.9.7"
  },
  "orig_nbformat": 4
 },
 "nbformat": 4,
 "nbformat_minor": 2
}
