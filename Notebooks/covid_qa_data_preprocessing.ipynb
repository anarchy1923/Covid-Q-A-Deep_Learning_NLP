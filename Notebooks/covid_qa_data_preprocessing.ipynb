{
 "cells": [
  {
   "cell_type": "markdown",
   "id": "d596d274",
   "metadata": {},
   "source": [
    "# Installing and importing libraries"
   ]
  },
  {
   "cell_type": "code",
   "execution_count": 209,
   "id": "54410ff3",
   "metadata": {},
   "outputs": [
    {
     "name": "stdout",
     "output_type": "stream",
     "text": [
      "Requirement already satisfied: pandas==1.3.1 in c:\\users\\manan\\anaconda3\\lib\\site-packages (1.3.1)\n",
      "Requirement already satisfied: python-dateutil>=2.7.3 in c:\\users\\manan\\anaconda3\\lib\\site-packages (from pandas==1.3.1) (2.8.2)\n",
      "Requirement already satisfied: numpy>=1.17.3 in c:\\users\\manan\\anaconda3\\lib\\site-packages (from pandas==1.3.1) (1.21.1)\n",
      "Requirement already satisfied: pytz>=2017.3 in c:\\users\\manan\\anaconda3\\lib\\site-packages (from pandas==1.3.1) (2021.3)\n",
      "Requirement already satisfied: six>=1.5 in c:\\users\\manan\\anaconda3\\lib\\site-packages (from python-dateutil>=2.7.3->pandas==1.3.1) (1.16.0)\n",
      "Requirement already satisfied: numpy==1.21.1 in c:\\users\\manan\\anaconda3\\lib\\site-packages (1.21.1)\n"
     ]
    }
   ],
   "source": [
    "!pip3 install pandas==1.3.1\n",
    "!pip3 install numpy==1.21.1"
   ]
  },
  {
   "cell_type": "code",
   "execution_count": 210,
   "id": "78630826",
   "metadata": {},
   "outputs": [
    {
     "name": "stdout",
     "output_type": "stream",
     "text": [
      "Python 3.9.7\n"
     ]
    }
   ],
   "source": [
    "#checking my python version\n",
    "!python --version"
   ]
  },
  {
   "cell_type": "code",
   "execution_count": 211,
   "id": "827a2d96",
   "metadata": {},
   "outputs": [],
   "source": [
    "\n",
    "#!pip3 install pickle5\n",
    "#import pickle5 as pickle\n",
    "\n",
    "\n",
    "import pickle"
   ]
  },
  {
   "cell_type": "code",
   "execution_count": 212,
   "id": "86733093",
   "metadata": {},
   "outputs": [],
   "source": [
    "import pandas as pd\n",
    "import numpy as np"
   ]
  },
  {
   "cell_type": "markdown",
   "id": "6ea08d3b",
   "metadata": {},
   "source": [
    "# Accessing the sample dataset which was created earlier"
   ]
  },
  {
   "cell_type": "code",
   "execution_count": 213,
   "id": "e0659b33",
   "metadata": {},
   "outputs": [],
   "source": [
    "# Accessing the research papers and data\n",
    "\n",
    "with open('metadata_sample.pickle', 'rb') as f:\n",
    "  df_metadata = pickle.load(f)\n",
    "with open('json_pdf_sample.pickle', 'rb') as f:\n",
    "  df_pdf = pickle.load(f)\n",
    "with open('json_pmc_sample.pickle', 'rb') as f:\n",
    "  df_pmc = pickle.load(f)"
   ]
  },
  {
   "cell_type": "code",
   "execution_count": 214,
   "id": "6e22add3",
   "metadata": {},
   "outputs": [
    {
     "data": {
      "text/html": [
       "<div>\n",
       "<style scoped>\n",
       "    .dataframe tbody tr th:only-of-type {\n",
       "        vertical-align: middle;\n",
       "    }\n",
       "\n",
       "    .dataframe tbody tr th {\n",
       "        vertical-align: top;\n",
       "    }\n",
       "\n",
       "    .dataframe thead th {\n",
       "        text-align: right;\n",
       "    }\n",
       "</style>\n",
       "<table border=\"1\" class=\"dataframe\">\n",
       "  <thead>\n",
       "    <tr style=\"text-align: right;\">\n",
       "      <th></th>\n",
       "      <th>cord_uid</th>\n",
       "      <th>sha</th>\n",
       "      <th>source_x</th>\n",
       "      <th>title</th>\n",
       "      <th>doi</th>\n",
       "      <th>pmcid</th>\n",
       "      <th>pubmed_id</th>\n",
       "      <th>license</th>\n",
       "      <th>abstract</th>\n",
       "      <th>publish_time</th>\n",
       "      <th>authors</th>\n",
       "      <th>journal</th>\n",
       "      <th>mag_id</th>\n",
       "      <th>who_covidence_id</th>\n",
       "      <th>arxiv_id</th>\n",
       "      <th>pdf_json_files</th>\n",
       "      <th>pmc_json_files</th>\n",
       "      <th>url</th>\n",
       "      <th>s2_id</th>\n",
       "    </tr>\n",
       "  </thead>\n",
       "  <tbody>\n",
       "    <tr>\n",
       "      <th>863449</th>\n",
       "      <td>dmb9knca</td>\n",
       "      <td>1cbf95a2c3a39e5cc80a5c4c6dbcec7cc718fd59</td>\n",
       "      <td>Elsevier; Medline; PMC</td>\n",
       "      <td>Genomic Evolution of Severe Acute Respiratory ...</td>\n",
       "      <td>10.4103/ijmm.ijmm_20_303</td>\n",
       "      <td>PMC7709607</td>\n",
       "      <td>32883935</td>\n",
       "      <td>els-covid</td>\n",
       "      <td>Abstract Recent emergence of severe acute resp...</td>\n",
       "      <td>2020-08-31</td>\n",
       "      <td>Jacob, Jobin John; Vasudevan, Karthick; Veerar...</td>\n",
       "      <td>Indian Journal of Medical Microbiology</td>\n",
       "      <td>NaN</td>\n",
       "      <td>NaN</td>\n",
       "      <td>NaN</td>\n",
       "      <td>document_parses/pdf_json/1cbf95a2c3a39e5cc80a5...</td>\n",
       "      <td>NaN</td>\n",
       "      <td>https://api.elsevier.com/content/article/pii/S...</td>\n",
       "      <td>221462995.0</td>\n",
       "    </tr>\n",
       "    <tr>\n",
       "      <th>888115</th>\n",
       "      <td>pyf9mafw</td>\n",
       "      <td>7dc6943ca46a1093ece2594002d61efdf9f51f28</td>\n",
       "      <td>Medline; PMC</td>\n",
       "      <td>Impact of COVID-19 on COPD and Asthma admissio...</td>\n",
       "      <td>10.1183/23120541.00822-2020</td>\n",
       "      <td>PMC7734714</td>\n",
       "      <td>33575313</td>\n",
       "      <td>cc-by-nc</td>\n",
       "      <td>Asthma and Chronic Obstructive Pulmonary Disea...</td>\n",
       "      <td>2020-12-10</td>\n",
       "      <td>Sykes, Dominic L; Faruqi, Shoaib; Holdsworth, ...</td>\n",
       "      <td>ERJ Open Res</td>\n",
       "      <td>NaN</td>\n",
       "      <td>NaN</td>\n",
       "      <td>NaN</td>\n",
       "      <td>document_parses/pdf_json/7dc6943ca46a1093ece25...</td>\n",
       "      <td>NaN</td>\n",
       "      <td>https://www.ncbi.nlm.nih.gov/pubmed/33575313/;...</td>\n",
       "      <td>229181457.0</td>\n",
       "    </tr>\n",
       "    <tr>\n",
       "      <th>727674</th>\n",
       "      <td>hnrrlmd4</td>\n",
       "      <td>5b127336f68f3dca83981d0142eda472634378f0</td>\n",
       "      <td>Medline; PMC</td>\n",
       "      <td>Programmable System of Cas13-Mediated RNA Modi...</td>\n",
       "      <td>10.3389/fcell.2021.677587</td>\n",
       "      <td>PMC8353156</td>\n",
       "      <td>34386490</td>\n",
       "      <td>cc-by</td>\n",
       "      <td>Clustered regularly interspaced short palindro...</td>\n",
       "      <td>2021-07-27</td>\n",
       "      <td>Tang, Tian; Han, Yingli; Wang, Yuran; Huang, H...</td>\n",
       "      <td>Front Cell Dev Biol</td>\n",
       "      <td>NaN</td>\n",
       "      <td>NaN</td>\n",
       "      <td>NaN</td>\n",
       "      <td>document_parses/pdf_json/5b127336f68f3dca83981...</td>\n",
       "      <td>document_parses/pmc_json/PMC8353156.xml.json</td>\n",
       "      <td>https://www.ncbi.nlm.nih.gov/pubmed/34386490/;...</td>\n",
       "      <td>236437455.0</td>\n",
       "    </tr>\n",
       "    <tr>\n",
       "      <th>783408</th>\n",
       "      <td>1t9vq9jg</td>\n",
       "      <td>aafbe282248436380dd737bae844725882df2249</td>\n",
       "      <td>Medline; PMC</td>\n",
       "      <td>Are You Tired of Working amid the Pandemic? Th...</td>\n",
       "      <td>10.3390/ijerph17249188</td>\n",
       "      <td>PMC7764790</td>\n",
       "      <td>33316964</td>\n",
       "      <td>cc-by</td>\n",
       "      <td>With the outbreak of novel coronavirus in 2019...</td>\n",
       "      <td>2020-12-09</td>\n",
       "      <td>Chen, Huaruo; Liu, Fan; Pang, Liman; Liu, Fei;...</td>\n",
       "      <td>Int J Environ Res Public Health</td>\n",
       "      <td>NaN</td>\n",
       "      <td>NaN</td>\n",
       "      <td>NaN</td>\n",
       "      <td>document_parses/pdf_json/aafbe282248436380dd73...</td>\n",
       "      <td>document_parses/pmc_json/PMC7764790.xml.json</td>\n",
       "      <td>https://doi.org/10.3390/ijerph17249188; https:...</td>\n",
       "      <td>229172344.0</td>\n",
       "    </tr>\n",
       "    <tr>\n",
       "      <th>786078</th>\n",
       "      <td>050vjj6k</td>\n",
       "      <td>4013a7e351c40d2bb7fdfe7f185d2ef9b1a872e6</td>\n",
       "      <td>Medline; PMC</td>\n",
       "      <td>Viral Sepsis in Children</td>\n",
       "      <td>10.3389/fped.2018.00252</td>\n",
       "      <td>PMC6153324</td>\n",
       "      <td>30280095</td>\n",
       "      <td>cc-by</td>\n",
       "      <td>Sepsis in children is typically presumed to be...</td>\n",
       "      <td>2018-09-18</td>\n",
       "      <td>Gupta, Neha; Richter, Robert; Robert, Stephen;...</td>\n",
       "      <td>Front Pediatr</td>\n",
       "      <td>NaN</td>\n",
       "      <td>NaN</td>\n",
       "      <td>NaN</td>\n",
       "      <td>document_parses/pdf_json/4013a7e351c40d2bb7fdf...</td>\n",
       "      <td>document_parses/pmc_json/PMC6153324.xml.json</td>\n",
       "      <td>https://www.ncbi.nlm.nih.gov/pubmed/30280095/;...</td>\n",
       "      <td>52291277.0</td>\n",
       "    </tr>\n",
       "  </tbody>\n",
       "</table>\n",
       "</div>"
      ],
      "text/plain": [
       "        cord_uid                                       sha  \\\n",
       "863449  dmb9knca  1cbf95a2c3a39e5cc80a5c4c6dbcec7cc718fd59   \n",
       "888115  pyf9mafw  7dc6943ca46a1093ece2594002d61efdf9f51f28   \n",
       "727674  hnrrlmd4  5b127336f68f3dca83981d0142eda472634378f0   \n",
       "783408  1t9vq9jg  aafbe282248436380dd737bae844725882df2249   \n",
       "786078  050vjj6k  4013a7e351c40d2bb7fdfe7f185d2ef9b1a872e6   \n",
       "\n",
       "                      source_x  \\\n",
       "863449  Elsevier; Medline; PMC   \n",
       "888115            Medline; PMC   \n",
       "727674            Medline; PMC   \n",
       "783408            Medline; PMC   \n",
       "786078            Medline; PMC   \n",
       "\n",
       "                                                    title  \\\n",
       "863449  Genomic Evolution of Severe Acute Respiratory ...   \n",
       "888115  Impact of COVID-19 on COPD and Asthma admissio...   \n",
       "727674  Programmable System of Cas13-Mediated RNA Modi...   \n",
       "783408  Are You Tired of Working amid the Pandemic? Th...   \n",
       "786078                           Viral Sepsis in Children   \n",
       "\n",
       "                                doi       pmcid pubmed_id    license  \\\n",
       "863449     10.4103/ijmm.ijmm_20_303  PMC7709607  32883935  els-covid   \n",
       "888115  10.1183/23120541.00822-2020  PMC7734714  33575313   cc-by-nc   \n",
       "727674    10.3389/fcell.2021.677587  PMC8353156  34386490      cc-by   \n",
       "783408       10.3390/ijerph17249188  PMC7764790  33316964      cc-by   \n",
       "786078      10.3389/fped.2018.00252  PMC6153324  30280095      cc-by   \n",
       "\n",
       "                                                 abstract publish_time  \\\n",
       "863449  Abstract Recent emergence of severe acute resp...   2020-08-31   \n",
       "888115  Asthma and Chronic Obstructive Pulmonary Disea...   2020-12-10   \n",
       "727674  Clustered regularly interspaced short palindro...   2021-07-27   \n",
       "783408  With the outbreak of novel coronavirus in 2019...   2020-12-09   \n",
       "786078  Sepsis in children is typically presumed to be...   2018-09-18   \n",
       "\n",
       "                                                  authors  \\\n",
       "863449  Jacob, Jobin John; Vasudevan, Karthick; Veerar...   \n",
       "888115  Sykes, Dominic L; Faruqi, Shoaib; Holdsworth, ...   \n",
       "727674  Tang, Tian; Han, Yingli; Wang, Yuran; Huang, H...   \n",
       "783408  Chen, Huaruo; Liu, Fan; Pang, Liman; Liu, Fei;...   \n",
       "786078  Gupta, Neha; Richter, Robert; Robert, Stephen;...   \n",
       "\n",
       "                                       journal  mag_id who_covidence_id  \\\n",
       "863449  Indian Journal of Medical Microbiology     NaN              NaN   \n",
       "888115                            ERJ Open Res     NaN              NaN   \n",
       "727674                     Front Cell Dev Biol     NaN              NaN   \n",
       "783408         Int J Environ Res Public Health     NaN              NaN   \n",
       "786078                           Front Pediatr     NaN              NaN   \n",
       "\n",
       "       arxiv_id                                     pdf_json_files  \\\n",
       "863449      NaN  document_parses/pdf_json/1cbf95a2c3a39e5cc80a5...   \n",
       "888115      NaN  document_parses/pdf_json/7dc6943ca46a1093ece25...   \n",
       "727674      NaN  document_parses/pdf_json/5b127336f68f3dca83981...   \n",
       "783408      NaN  document_parses/pdf_json/aafbe282248436380dd73...   \n",
       "786078      NaN  document_parses/pdf_json/4013a7e351c40d2bb7fdf...   \n",
       "\n",
       "                                      pmc_json_files  \\\n",
       "863449                                           NaN   \n",
       "888115                                           NaN   \n",
       "727674  document_parses/pmc_json/PMC8353156.xml.json   \n",
       "783408  document_parses/pmc_json/PMC7764790.xml.json   \n",
       "786078  document_parses/pmc_json/PMC6153324.xml.json   \n",
       "\n",
       "                                                      url        s2_id  \n",
       "863449  https://api.elsevier.com/content/article/pii/S...  221462995.0  \n",
       "888115  https://www.ncbi.nlm.nih.gov/pubmed/33575313/;...  229181457.0  \n",
       "727674  https://www.ncbi.nlm.nih.gov/pubmed/34386490/;...  236437455.0  \n",
       "783408  https://doi.org/10.3390/ijerph17249188; https:...  229172344.0  \n",
       "786078  https://www.ncbi.nlm.nih.gov/pubmed/30280095/;...   52291277.0  "
      ]
     },
     "execution_count": 214,
     "metadata": {},
     "output_type": "execute_result"
    }
   ],
   "source": [
    "df_metadata.head()"
   ]
  },
  {
   "cell_type": "code",
   "execution_count": 215,
   "id": "6a027dbc",
   "metadata": {
    "scrolled": true
   },
   "outputs": [
    {
     "data": {
      "text/html": [
       "<div>\n",
       "<style scoped>\n",
       "    .dataframe tbody tr th:only-of-type {\n",
       "        vertical-align: middle;\n",
       "    }\n",
       "\n",
       "    .dataframe tbody tr th {\n",
       "        vertical-align: top;\n",
       "    }\n",
       "\n",
       "    .dataframe thead th {\n",
       "        text-align: right;\n",
       "    }\n",
       "</style>\n",
       "<table border=\"1\" class=\"dataframe\">\n",
       "  <thead>\n",
       "    <tr style=\"text-align: right;\">\n",
       "      <th></th>\n",
       "      <th>paper_id</th>\n",
       "      <th>abstract</th>\n",
       "      <th>body_text</th>\n",
       "    </tr>\n",
       "  </thead>\n",
       "  <tbody>\n",
       "    <tr>\n",
       "      <th>18</th>\n",
       "      <td>0003793cf9e709bc2b9d0c8111186f78fb73fc04</td>\n",
       "      <td></td>\n",
       "      <td>How do we protect our 'high-risk' patient popu...</td>\n",
       "    </tr>\n",
       "    <tr>\n",
       "      <th>20</th>\n",
       "      <td>00039b94e6cb7609ecbddee1755314bcfeb77faa</td>\n",
       "      <td>Severe acute respiratory syndrome (SARS) is a ...</td>\n",
       "      <td>Severe acute respiratory syndrome (SARS) is a ...</td>\n",
       "    </tr>\n",
       "    <tr>\n",
       "      <th>28</th>\n",
       "      <td>000525b51f78000644865b63d47ac27c624c5981</td>\n",
       "      <td></td>\n",
       "      <td>Today the term \"pandemic\" is both a metaphor f...</td>\n",
       "    </tr>\n",
       "    <tr>\n",
       "      <th>76</th>\n",
       "      <td>000ee7a319f964af24836e5b0402cc7576edff6d</td>\n",
       "      <td></td>\n",
       "      <td>Letter to the editor Lessons Learned: Achievin...</td>\n",
       "    </tr>\n",
       "    <tr>\n",
       "      <th>106</th>\n",
       "      <td>0014140920bfe62e1753149fb9c2b1fa0110d955</td>\n",
       "      <td></td>\n",
       "      <td>To the Editor:$$$We read with great interest M...</td>\n",
       "    </tr>\n",
       "  </tbody>\n",
       "</table>\n",
       "</div>"
      ],
      "text/plain": [
       "                                     paper_id  \\\n",
       "18   0003793cf9e709bc2b9d0c8111186f78fb73fc04   \n",
       "20   00039b94e6cb7609ecbddee1755314bcfeb77faa   \n",
       "28   000525b51f78000644865b63d47ac27c624c5981   \n",
       "76   000ee7a319f964af24836e5b0402cc7576edff6d   \n",
       "106  0014140920bfe62e1753149fb9c2b1fa0110d955   \n",
       "\n",
       "                                              abstract  \\\n",
       "18                                                       \n",
       "20   Severe acute respiratory syndrome (SARS) is a ...   \n",
       "28                                                       \n",
       "76                                                       \n",
       "106                                                      \n",
       "\n",
       "                                             body_text  \n",
       "18   How do we protect our 'high-risk' patient popu...  \n",
       "20   Severe acute respiratory syndrome (SARS) is a ...  \n",
       "28   Today the term \"pandemic\" is both a metaphor f...  \n",
       "76   Letter to the editor Lessons Learned: Achievin...  \n",
       "106  To the Editor:$$$We read with great interest M...  "
      ]
     },
     "execution_count": 215,
     "metadata": {},
     "output_type": "execute_result"
    }
   ],
   "source": [
    "df_pdf.head()"
   ]
  },
  {
   "cell_type": "code",
   "execution_count": 216,
   "id": "ca19343e",
   "metadata": {},
   "outputs": [
    {
     "data": {
      "text/html": [
       "<div>\n",
       "<style scoped>\n",
       "    .dataframe tbody tr th:only-of-type {\n",
       "        vertical-align: middle;\n",
       "    }\n",
       "\n",
       "    .dataframe tbody tr th {\n",
       "        vertical-align: top;\n",
       "    }\n",
       "\n",
       "    .dataframe thead th {\n",
       "        text-align: right;\n",
       "    }\n",
       "</style>\n",
       "<table border=\"1\" class=\"dataframe\">\n",
       "  <thead>\n",
       "    <tr style=\"text-align: right;\">\n",
       "      <th></th>\n",
       "      <th>paper_id</th>\n",
       "      <th>body_text</th>\n",
       "    </tr>\n",
       "  </thead>\n",
       "  <tbody>\n",
       "    <tr>\n",
       "      <th>1</th>\n",
       "      <td>PMC1065028</td>\n",
       "      <td>The sudden emergence of severe acute respirato...</td>\n",
       "    </tr>\n",
       "    <tr>\n",
       "      <th>4</th>\n",
       "      <td>PMC1065257</td>\n",
       "      <td>Programmed −1 ribosomal frameshifting (hereaft...</td>\n",
       "    </tr>\n",
       "    <tr>\n",
       "      <th>14</th>\n",
       "      <td>PMC1087510</td>\n",
       "      <td>Following reports of the last case of the seve...</td>\n",
       "    </tr>\n",
       "    <tr>\n",
       "      <th>27</th>\n",
       "      <td>PMC1156866</td>\n",
       "      <td>Complexity combined with an imprecise terminol...</td>\n",
       "    </tr>\n",
       "    <tr>\n",
       "      <th>28</th>\n",
       "      <td>PMC1156889</td>\n",
       "      <td>Microbial forensics and epidemiology is import...</td>\n",
       "    </tr>\n",
       "  </tbody>\n",
       "</table>\n",
       "</div>"
      ],
      "text/plain": [
       "      paper_id                                          body_text\n",
       "1   PMC1065028  The sudden emergence of severe acute respirato...\n",
       "4   PMC1065257  Programmed −1 ribosomal frameshifting (hereaft...\n",
       "14  PMC1087510  Following reports of the last case of the seve...\n",
       "27  PMC1156866  Complexity combined with an imprecise terminol...\n",
       "28  PMC1156889  Microbial forensics and epidemiology is import..."
      ]
     },
     "execution_count": 216,
     "metadata": {},
     "output_type": "execute_result"
    }
   ],
   "source": [
    "df_pmc.head()"
   ]
  },
  {
   "cell_type": "markdown",
   "id": "bff77553",
   "metadata": {},
   "source": [
    "# Data Merging (merging the data from metadata, json pdf and json pmc files for research papers)"
   ]
  },
  {
   "cell_type": "code",
   "execution_count": 217,
   "id": "a29691f9",
   "metadata": {},
   "outputs": [],
   "source": [
    "#Merging the metadata and json pdf data\n",
    "#sha column of metadata and paper_id of json_pdf data are same identifier for each record\n",
    "df_merged = pd.merge(df_metadata,df_pdf,left_on='sha',right_on='paper_id',how='left').drop('paper_id',axis=1)"
   ]
  },
  {
   "cell_type": "code",
   "execution_count": 218,
   "id": "0ee22d82",
   "metadata": {
    "scrolled": false
   },
   "outputs": [
    {
     "data": {
      "text/html": [
       "<div>\n",
       "<style scoped>\n",
       "    .dataframe tbody tr th:only-of-type {\n",
       "        vertical-align: middle;\n",
       "    }\n",
       "\n",
       "    .dataframe tbody tr th {\n",
       "        vertical-align: top;\n",
       "    }\n",
       "\n",
       "    .dataframe thead th {\n",
       "        text-align: right;\n",
       "    }\n",
       "</style>\n",
       "<table border=\"1\" class=\"dataframe\">\n",
       "  <thead>\n",
       "    <tr style=\"text-align: right;\">\n",
       "      <th></th>\n",
       "      <th>cord_uid</th>\n",
       "      <th>sha</th>\n",
       "      <th>source_x</th>\n",
       "      <th>title</th>\n",
       "      <th>doi</th>\n",
       "      <th>pmcid</th>\n",
       "      <th>pubmed_id</th>\n",
       "      <th>license</th>\n",
       "      <th>abstract_x</th>\n",
       "      <th>publish_time</th>\n",
       "      <th>...</th>\n",
       "      <th>journal</th>\n",
       "      <th>mag_id</th>\n",
       "      <th>who_covidence_id</th>\n",
       "      <th>arxiv_id</th>\n",
       "      <th>pdf_json_files</th>\n",
       "      <th>pmc_json_files</th>\n",
       "      <th>url</th>\n",
       "      <th>s2_id</th>\n",
       "      <th>abstract_y</th>\n",
       "      <th>body_text</th>\n",
       "    </tr>\n",
       "  </thead>\n",
       "  <tbody>\n",
       "    <tr>\n",
       "      <th>0</th>\n",
       "      <td>dmb9knca</td>\n",
       "      <td>1cbf95a2c3a39e5cc80a5c4c6dbcec7cc718fd59</td>\n",
       "      <td>Elsevier; Medline; PMC</td>\n",
       "      <td>Genomic Evolution of Severe Acute Respiratory ...</td>\n",
       "      <td>10.4103/ijmm.ijmm_20_303</td>\n",
       "      <td>PMC7709607</td>\n",
       "      <td>32883935</td>\n",
       "      <td>els-covid</td>\n",
       "      <td>Abstract Recent emergence of severe acute resp...</td>\n",
       "      <td>2020-08-31</td>\n",
       "      <td>...</td>\n",
       "      <td>Indian Journal of Medical Microbiology</td>\n",
       "      <td>NaN</td>\n",
       "      <td>NaN</td>\n",
       "      <td>NaN</td>\n",
       "      <td>document_parses/pdf_json/1cbf95a2c3a39e5cc80a5...</td>\n",
       "      <td>NaN</td>\n",
       "      <td>https://api.elsevier.com/content/article/pii/S...</td>\n",
       "      <td>221462995.0</td>\n",
       "      <td>publicly funded repositories, such as the WHO ...</td>\n",
       "      <td>The outbreak of severe acute respiratory syndr...</td>\n",
       "    </tr>\n",
       "    <tr>\n",
       "      <th>1</th>\n",
       "      <td>pyf9mafw</td>\n",
       "      <td>7dc6943ca46a1093ece2594002d61efdf9f51f28</td>\n",
       "      <td>Medline; PMC</td>\n",
       "      <td>Impact of COVID-19 on COPD and Asthma admissio...</td>\n",
       "      <td>10.1183/23120541.00822-2020</td>\n",
       "      <td>PMC7734714</td>\n",
       "      <td>33575313</td>\n",
       "      <td>cc-by-nc</td>\n",
       "      <td>Asthma and Chronic Obstructive Pulmonary Disea...</td>\n",
       "      <td>2020-12-10</td>\n",
       "      <td>...</td>\n",
       "      <td>ERJ Open Res</td>\n",
       "      <td>NaN</td>\n",
       "      <td>NaN</td>\n",
       "      <td>NaN</td>\n",
       "      <td>document_parses/pdf_json/7dc6943ca46a1093ece25...</td>\n",
       "      <td>NaN</td>\n",
       "      <td>https://www.ncbi.nlm.nih.gov/pubmed/33575313/;...</td>\n",
       "      <td>229181457.0</td>\n",
       "      <td></td>\n",
       "      <td>The COVID-19 pandemic has led to an overall re...</td>\n",
       "    </tr>\n",
       "  </tbody>\n",
       "</table>\n",
       "<p>2 rows × 21 columns</p>\n",
       "</div>"
      ],
      "text/plain": [
       "   cord_uid                                       sha                source_x  \\\n",
       "0  dmb9knca  1cbf95a2c3a39e5cc80a5c4c6dbcec7cc718fd59  Elsevier; Medline; PMC   \n",
       "1  pyf9mafw  7dc6943ca46a1093ece2594002d61efdf9f51f28            Medline; PMC   \n",
       "\n",
       "                                               title  \\\n",
       "0  Genomic Evolution of Severe Acute Respiratory ...   \n",
       "1  Impact of COVID-19 on COPD and Asthma admissio...   \n",
       "\n",
       "                           doi       pmcid pubmed_id    license  \\\n",
       "0     10.4103/ijmm.ijmm_20_303  PMC7709607  32883935  els-covid   \n",
       "1  10.1183/23120541.00822-2020  PMC7734714  33575313   cc-by-nc   \n",
       "\n",
       "                                          abstract_x publish_time  ...  \\\n",
       "0  Abstract Recent emergence of severe acute resp...   2020-08-31  ...   \n",
       "1  Asthma and Chronic Obstructive Pulmonary Disea...   2020-12-10  ...   \n",
       "\n",
       "                                  journal mag_id  who_covidence_id arxiv_id  \\\n",
       "0  Indian Journal of Medical Microbiology    NaN               NaN      NaN   \n",
       "1                            ERJ Open Res    NaN               NaN      NaN   \n",
       "\n",
       "                                      pdf_json_files pmc_json_files  \\\n",
       "0  document_parses/pdf_json/1cbf95a2c3a39e5cc80a5...            NaN   \n",
       "1  document_parses/pdf_json/7dc6943ca46a1093ece25...            NaN   \n",
       "\n",
       "                                                 url        s2_id  \\\n",
       "0  https://api.elsevier.com/content/article/pii/S...  221462995.0   \n",
       "1  https://www.ncbi.nlm.nih.gov/pubmed/33575313/;...  229181457.0   \n",
       "\n",
       "                                          abstract_y  \\\n",
       "0  publicly funded repositories, such as the WHO ...   \n",
       "1                                                      \n",
       "\n",
       "                                           body_text  \n",
       "0  The outbreak of severe acute respiratory syndr...  \n",
       "1  The COVID-19 pandemic has led to an overall re...  \n",
       "\n",
       "[2 rows x 21 columns]"
      ]
     },
     "execution_count": 218,
     "metadata": {},
     "output_type": "execute_result"
    }
   ],
   "source": [
    "df_merged.head(2)\n",
    "#abstract_x is the abstract from metadata and abstract_y is the abstract from json_pdf"
   ]
  },
  {
   "cell_type": "code",
   "execution_count": 219,
   "id": "09d0941a",
   "metadata": {},
   "outputs": [
    {
     "data": {
      "text/plain": [
       "(25000, 22)"
      ]
     },
     "execution_count": 219,
     "metadata": {},
     "output_type": "execute_result"
    }
   ],
   "source": [
    "#Lets merge the json_pmc data to the merged data too\n",
    "df_merged = pd.merge(df_merged,df_pmc,left_on='pmcid',right_on='paper_id',how='left').drop('paper_id',axis=1)\n",
    "df_merged.shape"
   ]
  },
  {
   "cell_type": "markdown",
   "id": "ac2c9464",
   "metadata": {},
   "source": [
    "# Data Cleaning and Preprocessing"
   ]
  },
  {
   "cell_type": "code",
   "execution_count": 220,
   "id": "90dfb1e3",
   "metadata": {},
   "outputs": [
    {
     "data": {
      "text/plain": [
       "(22728, 22)"
      ]
     },
     "execution_count": 220,
     "metadata": {},
     "output_type": "execute_result"
    }
   ],
   "source": [
    "df_merged[df_merged.abstract_x != df_merged.abstract_y].shape\n",
    "#this means out of the 25000 samples, abstract is not matching between metadata and pdf data"
   ]
  },
  {
   "cell_type": "code",
   "execution_count": 221,
   "id": "08cff621",
   "metadata": {},
   "outputs": [
    {
     "data": {
      "text/plain": [
       "3363"
      ]
     },
     "execution_count": 221,
     "metadata": {},
     "output_type": "execute_result"
    }
   ],
   "source": [
    "# check metadata abstract column to see if null values exist\n",
    "df_merged.abstract_x.isnull().sum()"
   ]
  },
  {
   "cell_type": "code",
   "execution_count": 222,
   "id": "6a4635ad",
   "metadata": {},
   "outputs": [
    {
     "data": {
      "text/plain": [
       "1526"
      ]
     },
     "execution_count": 222,
     "metadata": {},
     "output_type": "execute_result"
    }
   ],
   "source": [
    "# Check pdf_json abstract to see if null values exist\n",
    "df_merged.abstract_y.isnull().sum()"
   ]
  },
  {
   "cell_type": "markdown",
   "id": "8817eb5f",
   "metadata": {},
   "source": [
    "Since the abstract_x from metadata is more reliable , we will use it but only fill by abstract_y text when abstract_x value is null"
   ]
  },
  {
   "cell_type": "code",
   "execution_count": 223,
   "id": "4be4bd8c",
   "metadata": {},
   "outputs": [],
   "source": [
    "# Convert all columns to string and then replace abstract_y values\n",
    "#df = df.astype(str)\n",
    "df_merged['abstract_y'] = df_merged['abstract_y'].astype(str) \n",
    "df_merged['abstract_y'] = np.where(df_merged['abstract_y'].map(len) > 50, df_merged['abstract_y'], 'na')"
   ]
  },
  {
   "cell_type": "code",
   "execution_count": 224,
   "id": "985ad290",
   "metadata": {},
   "outputs": [],
   "source": [
    "df_merged.loc[df_merged.abstract_x.isnull() & (df_merged.abstract_y != 'na'), 'abstract_x'] = df_merged[df_merged.abstract_x.isnull() & (df_merged.abstract_y != 'na')].abstract_y #we want to overwrite the abstract_x coloumn and abstract_y has to be not na"
   ]
  },
  {
   "cell_type": "code",
   "execution_count": 225,
   "id": "6731d14d",
   "metadata": {},
   "outputs": [
    {
     "data": {
      "text/plain": [
       "2745"
      ]
     },
     "execution_count": 225,
     "metadata": {},
     "output_type": "execute_result"
    }
   ],
   "source": [
    "df_merged.abstract_x.isnull().sum()"
   ]
  },
  {
   "cell_type": "code",
   "execution_count": 226,
   "id": "3072d151",
   "metadata": {},
   "outputs": [],
   "source": [
    "df_merged.rename(columns={'abstract_x': 'abstract'}, inplace=True)"
   ]
  },
  {
   "cell_type": "code",
   "execution_count": 227,
   "id": "01988aa8",
   "metadata": {
    "scrolled": true
   },
   "outputs": [
    {
     "data": {
      "text/plain": [
       "Index(['cord_uid', 'sha', 'source_x', 'title', 'doi', 'pmcid', 'pubmed_id',\n",
       "       'license', 'abstract', 'publish_time', 'authors', 'journal', 'mag_id',\n",
       "       'who_covidence_id', 'arxiv_id', 'pdf_json_files', 'pmc_json_files',\n",
       "       'url', 's2_id', 'abstract_y', 'body_text_x', 'body_text_y'],\n",
       "      dtype='object')"
      ]
     },
     "execution_count": 227,
     "metadata": {},
     "output_type": "execute_result"
    }
   ],
   "source": [
    "df_merged.columns"
   ]
  },
  {
   "cell_type": "code",
   "execution_count": 228,
   "id": "c1fe0623",
   "metadata": {},
   "outputs": [],
   "source": [
    "df_merged = df_merged.drop(['abstract_y'], axis=1)"
   ]
  },
  {
   "cell_type": "code",
   "execution_count": 229,
   "id": "899238f2",
   "metadata": {},
   "outputs": [
    {
     "data": {
      "text/plain": [
       "Index(['cord_uid', 'sha', 'source_x', 'title', 'doi', 'pmcid', 'pubmed_id',\n",
       "       'license', 'abstract', 'publish_time', 'authors', 'journal', 'mag_id',\n",
       "       'who_covidence_id', 'arxiv_id', 'pdf_json_files', 'pmc_json_files',\n",
       "       'url', 's2_id', 'body_text_x', 'body_text_y'],\n",
       "      dtype='object')"
      ]
     },
     "execution_count": 229,
     "metadata": {},
     "output_type": "execute_result"
    }
   ],
   "source": [
    "df_merged.columns"
   ]
  },
  {
   "cell_type": "code",
   "execution_count": 230,
   "id": "99baa937",
   "metadata": {},
   "outputs": [
    {
     "data": {
      "text/plain": [
       "25000"
      ]
     },
     "execution_count": 230,
     "metadata": {},
     "output_type": "execute_result"
    }
   ],
   "source": [
    "(df_merged.body_text_x != df_merged.body_text_y).sum()"
   ]
  },
  {
   "cell_type": "code",
   "execution_count": 231,
   "id": "5c9706cc",
   "metadata": {},
   "outputs": [
    {
     "data": {
      "text/plain": [
       "1526"
      ]
     },
     "execution_count": 231,
     "metadata": {},
     "output_type": "execute_result"
    }
   ],
   "source": [
    "df_merged.body_text_x.isnull().sum()"
   ]
  },
  {
   "cell_type": "code",
   "execution_count": 232,
   "id": "eee6b859",
   "metadata": {},
   "outputs": [
    {
     "data": {
      "text/plain": [
       "5238"
      ]
     },
     "execution_count": 232,
     "metadata": {},
     "output_type": "execute_result"
    }
   ],
   "source": [
    "df_merged.body_text_y.isnull().sum()"
   ]
  },
  {
   "cell_type": "code",
   "execution_count": 233,
   "id": "3f7d24e8",
   "metadata": {},
   "outputs": [
    {
     "data": {
      "text/plain": [
       "(1447, 21)"
      ]
     },
     "execution_count": 233,
     "metadata": {},
     "output_type": "execute_result"
    }
   ],
   "source": [
    "df_merged[df_merged.body_text_x.isnull() & df_merged.body_text_y.notnull()].shape "
   ]
  },
  {
   "cell_type": "code",
   "execution_count": 234,
   "id": "8308e0c4",
   "metadata": {},
   "outputs": [],
   "source": [
    "#when the body_text_y is not null, we'll be putting, bodytext y into x\n",
    "df_merged.loc[df_merged.body_text_y.notnull(), 'body_text_x'] = df_merged.loc[df_merged.body_text_y.notnull(), 'body_text_y']"
   ]
  },
  {
   "cell_type": "code",
   "execution_count": 235,
   "id": "a5726515",
   "metadata": {},
   "outputs": [
    {
     "data": {
      "text/plain": [
       "79"
      ]
     },
     "execution_count": 235,
     "metadata": {},
     "output_type": "execute_result"
    }
   ],
   "source": [
    "df_merged.body_text_x.isnull().sum()"
   ]
  },
  {
   "cell_type": "code",
   "execution_count": 236,
   "id": "3ffc2b71",
   "metadata": {},
   "outputs": [
    {
     "data": {
      "text/plain": [
       "Index(['cord_uid', 'sha', 'source_x', 'title', 'doi', 'pmcid', 'pubmed_id',\n",
       "       'license', 'abstract', 'publish_time', 'authors', 'journal', 'mag_id',\n",
       "       'who_covidence_id', 'arxiv_id', 'pdf_json_files', 'pmc_json_files',\n",
       "       'url', 's2_id', 'body_text_x', 'body_text_y'],\n",
       "      dtype='object')"
      ]
     },
     "execution_count": 236,
     "metadata": {},
     "output_type": "execute_result"
    }
   ],
   "source": [
    "df_merged.columns"
   ]
  },
  {
   "cell_type": "code",
   "execution_count": 237,
   "id": "425ef07c",
   "metadata": {},
   "outputs": [],
   "source": [
    "df_merged.rename(columns={'body_text_x': 'body_text'}, inplace=True)\n",
    "df_merged = df_merged.drop(['body_text_y'], axis=1)"
   ]
  },
  {
   "cell_type": "code",
   "execution_count": 238,
   "id": "ca67f79b",
   "metadata": {},
   "outputs": [
    {
     "data": {
      "text/plain": [
       "Index(['cord_uid', 'sha', 'source_x', 'title', 'doi', 'pmcid', 'pubmed_id',\n",
       "       'license', 'abstract', 'publish_time', 'authors', 'journal', 'mag_id',\n",
       "       'who_covidence_id', 'arxiv_id', 'pdf_json_files', 'pmc_json_files',\n",
       "       'url', 's2_id', 'body_text'],\n",
       "      dtype='object')"
      ]
     },
     "execution_count": 238,
     "metadata": {},
     "output_type": "execute_result"
    }
   ],
   "source": [
    "df_merged.columns"
   ]
  },
  {
   "cell_type": "code",
   "execution_count": 239,
   "id": "1c6daff0",
   "metadata": {},
   "outputs": [],
   "source": [
    "df_final = df_merged[['sha', 'title', 'abstract', 'publish_time', 'authors', 'url', 'body_text']]"
   ]
  },
  {
   "cell_type": "code",
   "execution_count": 240,
   "id": "5385ba24",
   "metadata": {
    "scrolled": true
   },
   "outputs": [
    {
     "data": {
      "text/plain": [
       "sha             0\n",
       "title           0\n",
       "abstract        0\n",
       "publish_time    0\n",
       "authors         0\n",
       "url             0\n",
       "body_text       0\n",
       "dtype: int64"
      ]
     },
     "execution_count": 240,
     "metadata": {},
     "output_type": "execute_result"
    }
   ],
   "source": [
    "df_final = df_final.dropna(axis=0,subset=['abstract', 'body_text', 'authors'])\n",
    "\n",
    "df_final.isnull().sum()"
   ]
  },
  {
   "cell_type": "code",
   "execution_count": 241,
   "id": "7c8371fc",
   "metadata": {
    "scrolled": true
   },
   "outputs": [
    {
     "data": {
      "text/html": [
       "<div>\n",
       "<style scoped>\n",
       "    .dataframe tbody tr th:only-of-type {\n",
       "        vertical-align: middle;\n",
       "    }\n",
       "\n",
       "    .dataframe tbody tr th {\n",
       "        vertical-align: top;\n",
       "    }\n",
       "\n",
       "    .dataframe thead th {\n",
       "        text-align: right;\n",
       "    }\n",
       "</style>\n",
       "<table border=\"1\" class=\"dataframe\">\n",
       "  <thead>\n",
       "    <tr style=\"text-align: right;\">\n",
       "      <th></th>\n",
       "      <th>sha</th>\n",
       "      <th>title</th>\n",
       "      <th>abstract</th>\n",
       "      <th>publish_time</th>\n",
       "      <th>authors</th>\n",
       "      <th>url</th>\n",
       "      <th>body_text</th>\n",
       "    </tr>\n",
       "  </thead>\n",
       "  <tbody>\n",
       "  </tbody>\n",
       "</table>\n",
       "</div>"
      ],
      "text/plain": [
       "Empty DataFrame\n",
       "Columns: [sha, title, abstract, publish_time, authors, url, body_text]\n",
       "Index: []"
      ]
     },
     "execution_count": 241,
     "metadata": {},
     "output_type": "execute_result"
    }
   ],
   "source": [
    "#identifying the rows which are null\n",
    "df_final[df_final['authors'].isnull()]"
   ]
  },
  {
   "cell_type": "code",
   "execution_count": 242,
   "id": "6e94db45",
   "metadata": {},
   "outputs": [
    {
     "data": {
      "text/plain": [
       "(22082, 7)"
      ]
     },
     "execution_count": 242,
     "metadata": {},
     "output_type": "execute_result"
    }
   ],
   "source": [
    "#let's see the shape to identify the number of rows and coloumns\n",
    "df_final.shape"
   ]
  },
  {
   "cell_type": "code",
   "execution_count": 243,
   "id": "7f27fc89",
   "metadata": {},
   "outputs": [],
   "source": [
    "df_final.to_csv('FINAL_CORD_DATA.csv', index=False)"
   ]
  },
  {
   "cell_type": "code",
   "execution_count": null,
   "id": "f1722466",
   "metadata": {},
   "outputs": [],
   "source": []
  }
 ],
 "metadata": {
  "kernelspec": {
   "display_name": "Python 3 (ipykernel)",
   "language": "python",
   "name": "python3"
  },
  "language_info": {
   "codemirror_mode": {
    "name": "ipython",
    "version": 3
   },
   "file_extension": ".py",
   "mimetype": "text/x-python",
   "name": "python",
   "nbconvert_exporter": "python",
   "pygments_lexer": "ipython3",
   "version": "3.9.7"
  }
 },
 "nbformat": 4,
 "nbformat_minor": 5
}
